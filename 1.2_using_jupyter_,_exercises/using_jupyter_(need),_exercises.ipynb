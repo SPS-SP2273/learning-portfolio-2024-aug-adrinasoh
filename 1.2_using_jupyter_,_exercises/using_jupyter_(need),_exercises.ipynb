{
 "cells": [
  {
   "attachments": {},
   "cell_type": "markdown",
   "id": "123456",
   "metadata": {},
   "source": [
    "<div style=\"text-align:left;font-size:2em\"><span style=\"font-weight:bolder;font-size:1.25em\">SP2273 | Learning Portfolio</span><br><br><span style=\"font-weight:bold;color:darkred\">Using Jupyter (Need), Exercises</span></div>"
   ]
  },
  {
   "attachments": {},
   "cell_type": "markdown",
   "id": "d9507316",
   "metadata": {},
   "source": [
    "## 1 Quadratic Equations"
   ]
  },
  {
   "attachments": {},
   "cell_type": "markdown",
   "id": "fa19bcf1",
   "metadata": {},
   "source": [
    "### Introduction"
   ]
  },
  {
   "cell_type": "markdown",
   "id": "6692b46c-fed5-46d2-9f45-f053406087d1",
   "metadata": {},
   "source": [
    "![](https://upload.wikimedia.org/wikipedia/commons/thumb/f/f8/Polynomialdeg2.svg/450px-Polynomialdeg2.svg.png)\n",
    "\n",
    "(Image from the <u>[Wikipedia page on Quadratic equations](https://en.wikipedia.org/wiki/Quadratic_equation))</u>\n"
   ]
  },
  {
   "cell_type": "markdown",
   "id": "13a14359-497f-4127-8272-fd036ef10034",
   "metadata": {},
   "source": [
    "The general form of a quadratic equation is:\n",
    "$$\n",
    "ax^{2}+bx+c=0\n",
    "$$"
   ]
  },
  {
   "attachments": {},
   "cell_type": "markdown",
   "id": "ee0e5303",
   "metadata": {},
   "source": [
    "### Solutions"
   ]
  },
  {
   "cell_type": "markdown",
   "id": "e24b2d87-9010-41dc-81db-d9d9190e53f2",
   "metadata": {},
   "source": [
    "Provided $a \\ne 0$, we can use an elementary algebraic method called <u>[completing the square](https://en.wikipedia.org/wiki/Completing_the_square)</u> to show that a quadratic equation has the following solution:\n",
    "$$\n",
    "x=\\dfrac{-b±\\sqrt{b^{2}-4ac}}{2a}\n",
    "$$"
   ]
  },
  {
   "attachments": {},
   "cell_type": "markdown",
   "id": "876f45c2",
   "metadata": {},
   "source": [
    "### Discriminant"
   ]
  },
  {
   "cell_type": "markdown",
   "id": "03cb9729-3fca-47a8-b512-98bd2d6983a8",
   "metadata": {},
   "source": [
    "The quantity $\\Delta= b^{2}-4ac$ is called the **discriminant** of the equation and decides the nature of its solutions. The table below shows the various possibilities.\n",
    "\n",
    "| Discriminant |  Roots |\n",
    "| :--: | :--- |\n",
    "| $\\Delta= b^{2}-4ac=0$         |  A single solution of $-b/(2a)$  |\n",
    "| $\\Delta= b^{2}-4ac\\gt 0$   |  Two distinct solutions  |\n",
    "| $\\Delta= b^{2}-4ac\\lt 0$   |  No real solution; both are complex.  |"
   ]
  },
  {
   "cell_type": "markdown",
   "id": "e4ef2c47-afcc-4589-adbb-89a0fb4969de",
   "metadata": {},
   "source": [
    "## Excercise 2"
   ]
  },
  {
   "cell_type": "markdown",
   "id": "05e31b44-13af-4650-98b1-55424e90cc54",
   "metadata": {},
   "source": [
    "1. A Git repository is platform on the server where one can store their codes on.\n",
    "2. Git keeps tracks of changes made to the codes in the files in our repository.\n",
    "3. A commit is to prepare to upload changes made to the code up to the online server. \n",
    "4. A push is to upload changes made to the code to the online server. \n",
    "5. A pull is to retrive changes made to the code on the online server. \n",
    "6. GitHub is the online server to access the codes uploaded from Jupyter Notebook, while GitHub Desktop is used to commit and push changes made to the code from Jupyter Notebook on my laptop to the online server GitHub."
   ]
  },
  {
   "cell_type": "markdown",
   "id": "ea063014-34bd-481d-8656-818d4ebc14fe",
   "metadata": {},
   "source": [
    "## Excercise 3"
   ]
  },
  {
   "cell_type": "markdown",
   "id": "f07c2189-cbfc-45fe-a2c9-6b3ed2bedc9c",
   "metadata": {},
   "source": [
    "$$\n",
    "\\mu = \\dfrac{1}{n} \\sum_{i=1}^{n} x_i\n",
    "$$"
   ]
  },
  {
   "cell_type": "markdown",
   "id": "f694c1a0-92bf-4b99-be40-2718bc6d5cae",
   "metadata": {},
   "source": [
    "$$\n",
    "\\sigma = \\sqrt{ \\dfrac{1}{n} \\sum_{i=1}^{n} {(x_i - \\mu)}^{2} }\n",
    "$$"
   ]
  },
  {
   "cell_type": "markdown",
   "id": "cae6b6ab-7d07-44a3-9370-77d5269e7f35",
   "metadata": {},
   "source": [
    "$$\n",
    "r = \\dfrac{ \\sum_{i=1}^{n} (x_i - \\mu_X )(y_i - \\mu_Y)}{ \\sqrt{ \\sum_{i=1}^{n} {(x_i - \\mu_X )}^{2} \\sum_{i=1}^{n} {(y_i - \\mu_Y )}^{2} } }\n",
    "$$"
   ]
  }
 ],
 "metadata": {
  "kernelspec": {
   "display_name": "Python 3 (ipykernel)",
   "language": "python",
   "name": "python3"
  },
  "language_info": {
   "codemirror_mode": {
    "name": "ipython",
    "version": 3
   },
   "file_extension": ".py",
   "mimetype": "text/x-python",
   "name": "python",
   "nbconvert_exporter": "python",
   "pygments_lexer": "ipython3",
   "version": "3.12.3"
  },
  "toc": {
   "base_numbering": 1,
   "nav_menu": {},
   "number_sections": true,
   "sideBar": true,
   "skip_h1_title": false,
   "title_cell": "Table of Contents",
   "title_sidebar": "Contents",
   "toc_cell": false,
   "toc_position": {},
   "toc_section_display": true,
   "toc_window_display": false
  },
  "vscode": {
   "interpreter": {
    "hash": "31f2aee4e71d21fbe5cf8b01ff0e069b9275f58929596ceb00d14d90e3e16cd6"
   }
  }
 },
 "nbformat": 4,
 "nbformat_minor": 5
}
