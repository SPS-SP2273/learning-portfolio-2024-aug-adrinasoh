{
 "cells": [
  {
   "attachments": {},
   "cell_type": "markdown",
   "id": "123456",
   "metadata": {},
   "source": [
    "<div style=\"text-align:left;font-size:2em\"><span style=\"font-weight:bolder;font-size:1.25em\">SP2273 | Learning Portfolio</span><br><br><span style=\"font-weight:bold;color:darkred\">Fundamentals (Need) Exercises</span></div>"
   ]
  },
  {
   "cell_type": "markdown",
   "id": "023c3116-a8e2-4188-864c-ea20a3230e52",
   "metadata": {},
   "source": [
    "## Excercise 1"
   ]
  },
  {
   "cell_type": "markdown",
   "id": "16b957e8-c8a2-4092-8762-ad3e8e640745",
   "metadata": {},
   "source": [
    "1. print()\n",
    "2. split()\n",
    "3. lens()\n",
    "4. replace()\n",
    "5. upper()\n",
    "6. lower()\n",
    "7. int()\n",
    "8. type()\n",
    "9. float()\n",
    "10. str()\n",
    "11. *sqrt()*\n",
    "12. *copy()*"
   ]
  },
  {
   "cell_type": "markdown",
   "id": "5900590f-9e9a-42bb-a9ca-ab00e7517a8a",
   "metadata": {},
   "source": [
    "## Excercise 2"
   ]
  },
  {
   "cell_type": "code",
   "execution_count": 17,
   "id": "5754207b-d060-45c8-a6fa-0ea51cbc056a",
   "metadata": {},
   "outputs": [],
   "source": [
    "import math"
   ]
  },
  {
   "cell_type": "code",
   "execution_count": 23,
   "id": "6fda4bb5-6a60-4399-882d-d7cd44818bf0",
   "metadata": {},
   "outputs": [
    {
     "name": "stdout",
     "output_type": "stream",
     "text": [
      "3 4 5\n"
     ]
    }
   ],
   "source": [
    "x, y = 3, 4\n",
    "z = int(math.sqrt(x**2 + y**2))\n",
    "\n",
    "print(x, y, z)"
   ]
  },
  {
   "cell_type": "markdown",
   "id": "faa18a13-4b4a-4ff1-b86b-5180d1209c71",
   "metadata": {},
   "source": [
    "## Exercise 3"
   ]
  },
  {
   "cell_type": "markdown",
   "id": "88f93743-763d-4cf9-9356-a76e495142b2",
   "metadata": {},
   "source": [
    "| **#**  | **Term** | **Description** |\n",
    "|----|:-----|-------------|\n",
    "| 1  | Function     | A block of reusable code that Python recognises and performs a specific task            |\n",
    "| 2  | Arguments     | Values or data that is input into a function            |\n",
    "| 3  | Comments     | By inserting a #, Python ignores the rest of the text in the line            |\n",
    "| 4  | Indentations     | In Python, a block of code is a group of statements that should be executed together, and the indentation level defines which statements are part of the same block.            |\n",
    "| 5  | Packages     | Packages can imbue Python with newer functions eg math, numpy            |\n",
    "| 6  | .     | Signifies ownership            |\n",
    "| 7  | :     | Designate the start of a block of code            |\n",
    "| 8  | []     | For a list            |\n",
    "| 9  | [[],[]]     | For a 2D list            |\n",
    "| 10 | {}     | For a dictionary, or f string            |"
   ]
  },
  {
   "cell_type": "markdown",
   "id": "6077bfb5-3625-4673-a396-83f149f0e9a4",
   "metadata": {},
   "source": [
    "## Excercise 4"
   ]
  },
  {
   "cell_type": "code",
   "execution_count": 38,
   "id": "b5637a24-05dc-4fc5-a281-94bc373aacd7",
   "metadata": {},
   "outputs": [
    {
     "data": {
      "text/plain": [
       "2.5"
      ]
     },
     "execution_count": 38,
     "metadata": {},
     "output_type": "execute_result"
    }
   ],
   "source": [
    "5/2 #Normal division giving a float value"
   ]
  },
  {
   "cell_type": "code",
   "execution_count": 39,
   "id": "c4914866-fbaa-49fc-8ebe-29a868293365",
   "metadata": {},
   "outputs": [
    {
     "data": {
      "text/plain": [
       "2"
      ]
     },
     "execution_count": 39,
     "metadata": {},
     "output_type": "execute_result"
    }
   ],
   "source": [
    "5//2 #Divides the number and rounds down to a integer"
   ]
  },
  {
   "cell_type": "code",
   "execution_count": 40,
   "id": "98376506-68af-44b3-8589-1518e57317cc",
   "metadata": {},
   "outputs": [
    {
     "data": {
      "text/plain": [
       "1"
      ]
     },
     "execution_count": 40,
     "metadata": {},
     "output_type": "execute_result"
    }
   ],
   "source": [
    "5%2 #Gives the remainder of 5/2"
   ]
  }
 ],
 "metadata": {
  "kernelspec": {
   "display_name": "Python 3 (ipykernel)",
   "language": "python",
   "name": "python3"
  },
  "language_info": {
   "codemirror_mode": {
    "name": "ipython",
    "version": 3
   },
   "file_extension": ".py",
   "mimetype": "text/x-python",
   "name": "python",
   "nbconvert_exporter": "python",
   "pygments_lexer": "ipython3",
   "version": "3.12.3"
  },
  "toc": {
   "base_numbering": 1,
   "nav_menu": {},
   "number_sections": true,
   "sideBar": true,
   "skip_h1_title": false,
   "title_cell": "Table of Contents",
   "title_sidebar": "Contents",
   "toc_cell": false,
   "toc_position": {},
   "toc_section_display": true,
   "toc_window_display": false
  },
  "vscode": {
   "interpreter": {
    "hash": "31f2aee4e71d21fbe5cf8b01ff0e069b9275f58929596ceb00d14d90e3e16cd6"
   }
  }
 },
 "nbformat": 4,
 "nbformat_minor": 5
}
