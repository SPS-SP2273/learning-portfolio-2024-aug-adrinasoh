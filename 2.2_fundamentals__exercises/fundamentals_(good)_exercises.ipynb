{
 "cells": [
  {
   "attachments": {},
   "cell_type": "markdown",
   "id": "123456",
   "metadata": {},
   "source": [
    "<div style=\"text-align:left;font-size:2em\"><span style=\"font-weight:bolder;font-size:1.25em\">SP2273 | Learning Portfolio</span><br><br><span style=\"font-weight:bold;color:darkred\">Fundamentals (Good) Exercises</span></div>"
   ]
  },
  {
   "cell_type": "markdown",
   "id": "9f4ed473-89cd-4334-be1f-253b6ecd7a9c",
   "metadata": {},
   "source": [
    "## Exercise 1"
   ]
  },
  {
   "cell_type": "markdown",
   "id": "83ecfe3b-f0c8-4dd5-89dc-e8a2bce56ac9",
   "metadata": {},
   "source": [
    "### Example 1"
   ]
  },
  {
   "cell_type": "code",
   "execution_count": 1,
   "id": "7288b312-90e7-4c50-958f-93e93536f714",
   "metadata": {},
   "outputs": [
    {
     "name": "stdin",
     "output_type": "stream",
     "text": [
      "Please provide me with a number? 42\n"
     ]
    },
    {
     "name": "stdout",
     "output_type": "stream",
     "text": [
      "You entered 42\n"
     ]
    }
   ],
   "source": [
    "user_input = input('Please provide me with a number?')\n",
    "print('You entered', user_input)"
   ]
  },
  {
   "cell_type": "markdown",
   "id": "4b47b46d-2b47-4016-b103-5038e5bf13b1",
   "metadata": {},
   "source": [
    "### Task 1"
   ]
  },
  {
   "cell_type": "code",
   "execution_count": 22,
   "id": "0b93786d-bb0b-4831-a993-dab68826cdfb",
   "metadata": {},
   "outputs": [
    {
     "name": "stdin",
     "output_type": "stream",
     "text": [
      "What is your name? adrina\n"
     ]
    },
    {
     "name": "stdout",
     "output_type": "stream",
     "text": [
      "How you doin \u001b[1mADRINA\u001b[0m!\n"
     ]
    }
   ],
   "source": [
    "name = input('What is your name?')\n",
    "print('How you doin', '\\033[1m' + name.upper()+ '\\033[0m' +'!')"
   ]
  },
  {
   "cell_type": "markdown",
   "id": "0fd4aa2f-a814-4d2d-8d82-c946e43295fd",
   "metadata": {},
   "source": [
    "### Task 2"
   ]
  },
  {
   "cell_type": "code",
   "execution_count": 28,
   "id": "e6d1d986-8aee-4394-a3e4-1eb32eabe80a",
   "metadata": {},
   "outputs": [
    {
     "name": "stdin",
     "output_type": "stream",
     "text": [
      "What is your age? 18\n"
     ]
    },
    {
     "name": "stdout",
     "output_type": "stream",
     "text": [
      "My name is \u001b[1mADRINA\u001b[0m and I am \u001b[1m18\u001b[0m years old.\n"
     ]
    }
   ],
   "source": [
    "age = input('What is your age?')\n",
    "print('My name is', '\\033[1m' + name.upper()+ '\\033[0m', 'and I am', '\\033[1m' + age+ '\\033[0m', 'years old.')"
   ]
  },
  {
   "cell_type": "markdown",
   "id": "44699b10-9f74-4312-8604-15cc6f784cb5",
   "metadata": {},
   "source": [
    "### Task 3"
   ]
  },
  {
   "cell_type": "code",
   "execution_count": 3,
   "id": "d1f2f143-c138-4b66-8bf8-2f1004127e4e",
   "metadata": {},
   "outputs": [],
   "source": [
    "import math"
   ]
  },
  {
   "cell_type": "code",
   "execution_count": 4,
   "id": "185e0cf1-2b69-43b7-9945-b7147e5508eb",
   "metadata": {},
   "outputs": [],
   "source": [
    "pi = math.pi"
   ]
  },
  {
   "cell_type": "code",
   "execution_count": 33,
   "id": "0dfc280d-fb64-4649-91c9-0b67811216b1",
   "metadata": {},
   "outputs": [
    {
     "name": "stdout",
     "output_type": "stream",
     "text": [
      "3.141592653589793\n"
     ]
    }
   ],
   "source": [
    "print(pi)"
   ]
  },
  {
   "cell_type": "code",
   "execution_count": 5,
   "id": "188330f0-cf47-479c-b6a0-8e3d6f6fbfbc",
   "metadata": {},
   "outputs": [
    {
     "name": "stdout",
     "output_type": "stream",
     "text": [
      "The value of pi to 2 decimal places is: 3.14\n"
     ]
    }
   ],
   "source": [
    "print(f'The value of pi to 2 decimal places is: {pi:.2f}')"
   ]
  },
  {
   "cell_type": "code",
   "execution_count": 6,
   "id": "008f307d-0f7c-4ebe-9158-5c8ae1fbb436",
   "metadata": {},
   "outputs": [
    {
     "name": "stdout",
     "output_type": "stream",
     "text": [
      "The value of pi to 3 decimal places is: 3.142\n"
     ]
    }
   ],
   "source": [
    "print(f'The value of pi to 3 decimal places is: {pi:.3f}')"
   ]
  },
  {
   "cell_type": "code",
   "execution_count": 7,
   "id": "d1a1fe6b-1847-4756-864f-60c21c6597b6",
   "metadata": {},
   "outputs": [
    {
     "name": "stdout",
     "output_type": "stream",
     "text": [
      "The value of pi to 4 decimal places is: 3.1416\n"
     ]
    }
   ],
   "source": [
    "print(f'The value of pi to 4 decimal places is: {pi:.4f}')"
   ]
  },
  {
   "cell_type": "markdown",
   "id": "fcefc665-a17c-4ddc-9775-c7f68e126259",
   "metadata": {},
   "source": [
    "### Task 4"
   ]
  },
  {
   "cell_type": "code",
   "execution_count": 8,
   "id": "22d17737-b89e-4778-aba6-ef24cbf4342b",
   "metadata": {},
   "outputs": [],
   "source": [
    "Apple = '$ 0.99'\n",
    "Banana = '$ 0.59'\n",
    "Orange = '$ 1.29'"
   ]
  },
  {
   "cell_type": "code",
   "execution_count": 17,
   "id": "013468e4-bfff-4023-96c1-2594266dfdcb",
   "metadata": {},
   "outputs": [
    {
     "name": "stdout",
     "output_type": "stream",
     "text": [
      "Apple      $ 0.99\n",
      "Banana     $ 0.59\n",
      "Orange     $ 1.29\n"
     ]
    }
   ],
   "source": [
    "print(f'{'Apple':<10} {Apple:>5}')\n",
    "print(f'{'Banana':<10} {Banana:>5}')\n",
    "print(f'{'Orange':<10} {Orange:>5}')"
   ]
  },
  {
   "cell_type": "markdown",
   "id": "6668bb13-ad61-4cc4-938e-8b9f1cc14cf0",
   "metadata": {},
   "source": [
    "## Exercsie 2"
   ]
  },
  {
   "cell_type": "markdown",
   "id": "de5e2388-19e4-4665-a5de-b796700f6790",
   "metadata": {},
   "source": [
    "| **Grade**  | **Score Range** |\n",
    "|----|:-----|\n",
    "| A  | 70 - 100     |\n",
    "| B  | 50 - 69     |\n",
    "| C  | 35 - 49     |\n",
    "| Fail  | 0 - 34     |"
   ]
  },
  {
   "cell_type": "code",
   "execution_count": 4,
   "id": "79d30605-6402-4c2b-aa31-55822c2347e6",
   "metadata": {},
   "outputs": [
    {
     "name": "stdin",
     "output_type": "stream",
     "text": [
      "Enter the student's score: 57\n"
     ]
    },
    {
     "name": "stdout",
     "output_type": "stream",
     "text": [
      "The student's letter grade is: B\n"
     ]
    }
   ],
   "source": [
    "score = input('Enter the student\\'s score:')\n",
    "\n",
    "if score.isdigit() and 0<=int(score)<=100:\n",
    "    score = int(score)\n",
    "    \n",
    "    if score>=70:\n",
    "        grade = 'A'\n",
    "    elif score>=50:\n",
    "        grade = 'B'\n",
    "    elif score>=35:\n",
    "        grade = 'C'\n",
    "    else:\n",
    "        grade = 'Fail'\n",
    "\n",
    "    print('The student\\'s letter grade is:', grade)\n",
    "\n",
    "else:\n",
    "    print('Invalid input. Please enter a number between 0 and 100')"
   ]
  },
  {
   "cell_type": "code",
   "execution_count": 5,
   "id": "e80159e3-306c-4a84-ac1d-27d8219d51fb",
   "metadata": {},
   "outputs": [
    {
     "name": "stdin",
     "output_type": "stream",
     "text": [
      "Enter the student's score: hi\n"
     ]
    },
    {
     "name": "stdout",
     "output_type": "stream",
     "text": [
      "Invalid input. Please enter a number between 0 and 100\n"
     ]
    }
   ],
   "source": [
    "score = input('Enter the student\\'s score:')\n",
    "\n",
    "if score.isdigit() and 0<=int(score)<=100:\n",
    "    score = int(score)\n",
    "    \n",
    "    if score>=70:\n",
    "        grade = 'A'\n",
    "    elif score>=50:\n",
    "        grade = 'B'\n",
    "    elif score>=35:\n",
    "        grade = 'C'\n",
    "    else:\n",
    "        grade = 'Fail'\n",
    "\n",
    "    print('The student\\'s letter grade is:', grade)\n",
    "\n",
    "else:\n",
    "    print('Invalid input. Please enter a number between 0 and 100')"
   ]
  },
  {
   "cell_type": "markdown",
   "id": "2721be47-057f-46c1-9489-57a2556ce264",
   "metadata": {},
   "source": [
    "## Exercise 3"
   ]
  },
  {
   "cell_type": "code",
   "execution_count": 1,
   "id": "71ebf21f-a1cd-4e81-a5c2-21902d38976a",
   "metadata": {},
   "outputs": [
    {
     "name": "stdout",
     "output_type": "stream",
     "text": [
      "120\n",
      "Invalid input\n"
     ]
    }
   ],
   "source": [
    "def factorial(n):\n",
    "    if int(n) < 0:\n",
    "        return \"Invalid input\"\n",
    "    elif int(n) == 0:\n",
    "        return 1\n",
    "    else:\n",
    "        result = 1\n",
    "        for number in range(1, n+1):\n",
    "            result *= number\n",
    "        return result\n",
    "\n",
    "\n",
    "print(factorial(5))   # Testing, expected output: 120\n",
    "print(factorial(-1))  # Testing, expected output: Invalid input"
   ]
  }
 ],
 "metadata": {
  "kernelspec": {
   "display_name": "Python 3 (ipykernel)",
   "language": "python",
   "name": "python3"
  },
  "language_info": {
   "codemirror_mode": {
    "name": "ipython",
    "version": 3
   },
   "file_extension": ".py",
   "mimetype": "text/x-python",
   "name": "python",
   "nbconvert_exporter": "python",
   "pygments_lexer": "ipython3",
   "version": "3.12.3"
  },
  "toc": {
   "base_numbering": 1,
   "nav_menu": {},
   "number_sections": true,
   "sideBar": true,
   "skip_h1_title": false,
   "title_cell": "Table of Contents",
   "title_sidebar": "Contents",
   "toc_cell": false,
   "toc_position": {},
   "toc_section_display": true,
   "toc_window_display": false
  },
  "vscode": {
   "interpreter": {
    "hash": "31f2aee4e71d21fbe5cf8b01ff0e069b9275f58929596ceb00d14d90e3e16cd6"
   }
  }
 },
 "nbformat": 4,
 "nbformat_minor": 5
}
