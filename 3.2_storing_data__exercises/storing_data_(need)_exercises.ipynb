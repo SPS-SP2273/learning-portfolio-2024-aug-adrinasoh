{
 "cells": [
  {
   "attachments": {},
   "cell_type": "markdown",
   "id": "123456",
   "metadata": {},
   "source": [
    "<div style=\"text-align:left;font-size:2em\"><span style=\"font-weight:bolder;font-size:1.25em\">SP2273 | Learning Portfolio</span><br><br><span style=\"font-weight:bold;color:darkred\">Storing Data (Need) Exercises</span></div>"
   ]
  },
  {
   "cell_type": "markdown",
   "id": "a7e969a6-d886-4dee-8767-bc988c9f425e",
   "metadata": {},
   "source": [
    "## Excercise 1"
   ]
  },
  {
   "cell_type": "markdown",
   "id": "c0f63fc8-ed41-41cb-9a89-2814e997db29",
   "metadata": {},
   "source": [
    "1. Both lists and arrays are used to store data in a specific order. *Subsetting, indexing and slicing can all be aplied to lists and arrays*\n",
    "2. List can hold elements of different types (such as string, integer, float etc) but arrays can only hold elements of one type.\n",
    "3. A dictionary pairs a key and a value."
   ]
  },
  {
   "cell_type": "markdown",
   "id": "10639d80-8bb3-4c08-925a-6dbb4c5423b2",
   "metadata": {},
   "source": [
    "## Excercise 2"
   ]
  },
  {
   "cell_type": "code",
   "execution_count": 1,
   "id": "0c9cdc02-efc6-4a85-85eb-12d028129a86",
   "metadata": {},
   "outputs": [
    {
     "name": "stdout",
     "output_type": "stream",
     "text": [
      "a1\n",
      "c3\n",
      "e5\n",
      "g7\n",
      "i9\n"
     ]
    }
   ],
   "source": [
    "py_list = [\"a1\", \"b2\", \"c3\", \"d4\", \"e5\", \"f6\", \"g7\", \"h8\", \"i9\", \"j10\"]\n",
    "print(py_list[0])   # Prints 'a1'\n",
    "print(py_list[2])   # Prints 'c3'\n",
    "print(py_list[4])   # Prints 'e5'\n",
    "print(py_list[6])   # Prints 'g7'\n",
    "print(py_list[8])   # Prints 'i9'"
   ]
  },
  {
   "cell_type": "code",
   "execution_count": 5,
   "id": "1b2ac787-04ae-442d-98f1-5a5537e8494d",
   "metadata": {},
   "outputs": [
    {
     "name": "stdout",
     "output_type": "stream",
     "text": [
      "['a1', 'c3', 'e5', 'g7', 'i9']\n"
     ]
    }
   ],
   "source": [
    "py_list = [\"a1\", \"b2\", \"c3\", \"d4\", \"e5\", \"f6\", \"g7\", \"h8\", \"i9\", \"j10\"]\n",
    "print(py_list[0:9:2]) #0 indicates the start, 9 indicates the end of the list, 2 indicates the interval"
   ]
  },
  {
   "cell_type": "markdown",
   "id": "c3e2461d-9777-4f38-b24e-7d682cbff0bf",
   "metadata": {},
   "source": [
    "## Excercise 3"
   ]
  },
  {
   "cell_type": "code",
   "execution_count": 6,
   "id": "066fae03-d78b-4a86-ae71-a7ffb62269c0",
   "metadata": {},
   "outputs": [],
   "source": [
    "elements = ['Hydrogen',\n",
    "            'Helium', 'Lithium',\n",
    "            'Beryllium', 'Boron', 'Carbon',\n",
    "            'Nitrogen', 'Oxygen',\n",
    "            'Fluorine',\n",
    "            'Neon']"
   ]
  },
  {
   "cell_type": "code",
   "execution_count": 7,
   "id": "f58b2da3-987b-4b9a-8737-ac4dca9236b1",
   "metadata": {},
   "outputs": [
    {
     "name": "stdout",
     "output_type": "stream",
     "text": [
      "Boron\n"
     ]
    }
   ],
   "source": [
    "print(elements[4])"
   ]
  },
  {
   "cell_type": "code",
   "execution_count": 8,
   "id": "ccf6f134-77f6-4032-b43c-51e1bd4cf50d",
   "metadata": {},
   "outputs": [
    {
     "name": "stdout",
     "output_type": "stream",
     "text": [
      "Nitrogen\n"
     ]
    }
   ],
   "source": [
    "print(elements[-4])"
   ]
  },
  {
   "cell_type": "markdown",
   "id": "53ff1746-f10d-4acd-b753-8a922d5bb2bd",
   "metadata": {},
   "source": [
    "## Excercise 4"
   ]
  },
  {
   "cell_type": "code",
   "execution_count": 10,
   "id": "08d65dcf-0add-4308-a26e-742d4d957764",
   "metadata": {},
   "outputs": [],
   "source": [
    "import numpy as np"
   ]
  },
  {
   "cell_type": "code",
   "execution_count": 13,
   "id": "4a202c8f-6801-43c2-be32-1c17a497cd68",
   "metadata": {},
   "outputs": [],
   "source": [
    "numbers=[45, 60, 1, 30, 96, 1, 96, 57, 16, 1,\n",
    "        99, 62, 86, 43, 42, 60, 59, 1, 1, 35,\n",
    "        83, 47, 34, 28, 68, 23, 22, 92, 1, 79,\n",
    "        1, 29, 94, 72, 46, 47, 1, 74, 32, 20,\n",
    "        8, 37, 35, 1, 89, 29, 86, 19, 43, 61]\n",
    "\n",
    "np_array = np.array(numbers)"
   ]
  },
  {
   "cell_type": "code",
   "execution_count": 15,
   "id": "b6a9d9fc-7dc8-48d7-a0a9-b1dd9bd09b8a",
   "metadata": {},
   "outputs": [
    {
     "data": {
      "text/plain": [
       "array([False, False,  True, False, False,  True, False, False, False,\n",
       "        True, False, False, False, False, False, False, False,  True,\n",
       "        True, False, False, False, False, False, False, False, False,\n",
       "       False,  True, False,  True, False, False, False, False, False,\n",
       "        True, False, False, False, False, False, False,  True, False,\n",
       "       False, False, False, False, False])"
      ]
     },
     "execution_count": 15,
     "metadata": {},
     "output_type": "execute_result"
    }
   ],
   "source": [
    "np_array ==1"
   ]
  },
  {
   "cell_type": "code",
   "execution_count": 17,
   "id": "aaf7f4dd-78b5-4c68-9f07-08822206336c",
   "metadata": {},
   "outputs": [
    {
     "data": {
      "text/plain": [
       "np.int64(9)"
      ]
     },
     "execution_count": 17,
     "metadata": {},
     "output_type": "execute_result"
    }
   ],
   "source": [
    "(np_array == 1).sum()"
   ]
  },
  {
   "cell_type": "markdown",
   "id": "f6588807-83b7-4003-b912-763a0abf263e",
   "metadata": {},
   "source": [
    "Therefore, there is 9 ones in the list above."
   ]
  },
  {
   "cell_type": "markdown",
   "id": "2962e73c-ae96-4aa1-afdc-c2d23180e6bc",
   "metadata": {},
   "source": [
    "## Excercise 5"
   ]
  },
  {
   "cell_type": "code",
   "execution_count": 20,
   "id": "f4af0339-fff4-42e0-a65e-e895c5a11dca",
   "metadata": {},
   "outputs": [],
   "source": [
    "x_1 = [1, 4, 9, 16, 25, 36, 49, 64, 81, 100]\n",
    "x_2 = [1, 8, 27, 64, 125, 216, 343, 512, 729, 1000]\n",
    "\n",
    "np_1=np.array(x_1)\n",
    "np_2=np.array(x_2)"
   ]
  },
  {
   "cell_type": "code",
   "execution_count": 24,
   "id": "e46590b8-7c4b-42dd-a5a2-13bea487303e",
   "metadata": {},
   "outputs": [
    {
     "name": "stdout",
     "output_type": "stream",
     "text": [
      "Mean of x_1 is 38.5\n",
      "Mean of x_2 is 302.5\n"
     ]
    }
   ],
   "source": [
    "print('Mean of x_1 is',(np_1).mean())\n",
    "print('Mean of x_2 is',(np_2).mean())"
   ]
  },
  {
   "cell_type": "code",
   "execution_count": 25,
   "id": "df1c9efd-d225-432f-b6b0-2b14bb6e8bfa",
   "metadata": {},
   "outputs": [
    {
     "name": "stdout",
     "output_type": "stream",
     "text": [
      "Standard deviation of x_1 is 32.41990129534635\n",
      "Standard deviation of x_2 is 326.0893282522444\n"
     ]
    }
   ],
   "source": [
    "print('Standard deviation of x_1 is',(np_1).std())\n",
    "print('Standard deviation of x_2 is',(np_2).std())"
   ]
  },
  {
   "cell_type": "code",
   "execution_count": 27,
   "id": "39b5a553-63dc-41c5-b97e-fcaf8e04455b",
   "metadata": {},
   "outputs": [
    {
     "name": "stdout",
     "output_type": "stream",
     "text": [
      "[-37.5 -34.5 -29.5 -22.5 -13.5  -2.5  10.5  25.5  42.5  61.5]\n"
     ]
    }
   ],
   "source": [
    "a = np_1 - 38.5\n",
    "print(a)"
   ]
  },
  {
   "cell_type": "code",
   "execution_count": 50,
   "id": "037d4ae9-a8d8-45b6-bbf8-facdeed5d9b9",
   "metadata": {},
   "outputs": [
    {
     "name": "stdout",
     "output_type": "stream",
     "text": [
      "[-301.5 -294.5 -275.5 -238.5 -177.5  -86.5   40.5  209.5  426.5  697.5]\n"
     ]
    }
   ],
   "source": [
    "b = np_2 - 302.5\n",
    "print(b)"
   ]
  },
  {
   "cell_type": "code",
   "execution_count": 56,
   "id": "e2639f76-51a3-4838-8da1-bac5bef08ea7",
   "metadata": {},
   "outputs": [
    {
     "name": "stdout",
     "output_type": "stream",
     "text": [
      "[11306.25 10160.25  8127.25  5366.25  2396.25   216.25   425.25  5342.25\n",
      " 18126.25 42896.25]\n"
     ]
    }
   ],
   "source": [
    "e = (a*b)\n",
    "print(e)"
   ]
  },
  {
   "cell_type": "code",
   "execution_count": 32,
   "id": "4ff141fa-001a-4636-bf8f-1500772e9734",
   "metadata": {},
   "outputs": [
    {
     "name": "stdout",
     "output_type": "stream",
     "text": [
      "[1406.25 1190.25  870.25  506.25  182.25    6.25  110.25  650.25 1806.25\n",
      " 3782.25]\n"
     ]
    }
   ],
   "source": [
    "c = np.array(a)**2\n",
    "print(c)"
   ]
  },
  {
   "cell_type": "code",
   "execution_count": 54,
   "id": "b5cf2eed-8b74-463a-a720-cc5bd2af76aa",
   "metadata": {},
   "outputs": [
    {
     "name": "stdout",
     "output_type": "stream",
     "text": [
      "[ 90902.25  86730.25  75900.25  56882.25  31506.25   7482.25   1640.25\n",
      "  43890.25 181902.25 486506.25]\n"
     ]
    }
   ],
   "source": [
    "d = np.array(b)**2\n",
    "print(d)"
   ]
  },
  {
   "cell_type": "code",
   "execution_count": 62,
   "id": "07c47161-c7f1-4338-8b1f-2aaaab9f5314",
   "metadata": {},
   "outputs": [
    {
     "name": "stdout",
     "output_type": "stream",
     "text": [
      "11176261346.25\n"
     ]
    }
   ],
   "source": [
    "f = c.sum()*d.sum()\n",
    "print(f)"
   ]
  },
  {
   "cell_type": "code",
   "execution_count": 61,
   "id": "8cc925fe-0ac9-4cf0-bff6-78314eac8467",
   "metadata": {},
   "outputs": [
    {
     "name": "stdout",
     "output_type": "stream",
     "text": [
      "0.9871796626270701\n"
     ]
    }
   ],
   "source": [
    "print(e.sum()/np.sqrt(f))"
   ]
  },
  {
   "cell_type": "code",
   "execution_count": null,
   "id": "34922e07-4a88-41f4-b3cc-58763a9427bb",
   "metadata": {},
   "outputs": [],
   "source": []
  }
 ],
 "metadata": {
  "kernelspec": {
   "display_name": "Python 3 (ipykernel)",
   "language": "python",
   "name": "python3"
  },
  "language_info": {
   "codemirror_mode": {
    "name": "ipython",
    "version": 3
   },
   "file_extension": ".py",
   "mimetype": "text/x-python",
   "name": "python",
   "nbconvert_exporter": "python",
   "pygments_lexer": "ipython3",
   "version": "3.12.3"
  },
  "toc": {
   "base_numbering": 1,
   "nav_menu": {},
   "number_sections": true,
   "sideBar": true,
   "skip_h1_title": false,
   "title_cell": "Table of Contents",
   "title_sidebar": "Contents",
   "toc_cell": false,
   "toc_position": {},
   "toc_section_display": true,
   "toc_window_display": false
  },
  "vscode": {
   "interpreter": {
    "hash": "31f2aee4e71d21fbe5cf8b01ff0e069b9275f58929596ceb00d14d90e3e16cd6"
   }
  }
 },
 "nbformat": 4,
 "nbformat_minor": 5
}
