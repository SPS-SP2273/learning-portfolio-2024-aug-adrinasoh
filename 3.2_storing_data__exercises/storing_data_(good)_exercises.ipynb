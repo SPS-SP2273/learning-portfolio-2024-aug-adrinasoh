{
 "cells": [
  {
   "attachments": {},
   "cell_type": "markdown",
   "id": "123456",
   "metadata": {},
   "source": [
    "<div style=\"text-align:left;font-size:2em\"><span style=\"font-weight:bolder;font-size:1.25em\">SP2273 | Learning Portfolio</span><br><br><span style=\"font-weight:bold;color:darkred\">Storing Data (Good) Exercises</span></div>"
   ]
  },
  {
   "cell_type": "markdown",
   "id": "34c84e48-0b76-4a3a-88ef-90b3555f5b33",
   "metadata": {},
   "source": [
    "## Exercise 1"
   ]
  },
  {
   "cell_type": "markdown",
   "id": "fd135058-5cf0-4301-a128-67c320a709ee",
   "metadata": {},
   "source": [
    "| **Term**  | **Brief Description** |\n",
    "|:----|:-----|\n",
    "| Subsetting  | Refers to selecting elements in a list or array     |\n",
    "| Indexing  | Refers to selecting one element in a list or array     |\n",
    "| Slicing  | Refers to selecting a range of elements in a list or array     |\n",
    "| Masking  | Refers to selecting specific elements of an array that meet a certain criteria     |"
   ]
  },
  {
   "cell_type": "markdown",
   "id": "780db88a-733a-45d4-8e65-944247a3c7d3",
   "metadata": {},
   "source": [
    "## Exercise 2"
   ]
  },
  {
   "cell_type": "code",
   "execution_count": 10,
   "id": "941f4b14-6d64-48b4-a452-b234d60ec00c",
   "metadata": {},
   "outputs": [],
   "source": [
    "import numpy as np"
   ]
  },
  {
   "cell_type": "code",
   "execution_count": 13,
   "id": "e584b09f-4e6e-4ee9-8de6-947ad5342eb6",
   "metadata": {},
   "outputs": [],
   "source": [
    "np_array_2d = np.array([[1, \"A\"], [3, \"C\"], [2, \"B\"], [4, \"D\"],\n",
    "                        [5, \"E\"], [7, \"G\"], [6, \"F\"], [8, \"H\"],\n",
    "                        [10, \"J\"], [9, \"I\"]])"
   ]
  },
  {
   "cell_type": "code",
   "execution_count": 31,
   "id": "c42e82ff-ff7b-4f58-9307-111de6b94a80",
   "metadata": {},
   "outputs": [
    {
     "data": {
      "text/plain": [
       "array(['1', '3', '2', '4', '5', '7', '6', '8', '10', '9'], dtype='<U21')"
      ]
     },
     "execution_count": 31,
     "metadata": {},
     "output_type": "execute_result"
    }
   ],
   "source": [
    "numbers_only = np_array_2d[:,0]\n",
    "numbers_only"
   ]
  },
  {
   "cell_type": "code",
   "execution_count": 32,
   "id": "f878646a-5560-49b9-8689-57911e992375",
   "metadata": {},
   "outputs": [
    {
     "data": {
      "text/plain": [
       "array([ 1,  3,  2,  4,  5,  7,  6,  8, 10,  9])"
      ]
     },
     "execution_count": 32,
     "metadata": {},
     "output_type": "execute_result"
    }
   ],
   "source": [
    "numbers_only_1=numbers_only.astype(int) #used to cast or convert the elements of an array to a different data type\n",
    "numbers_only_1"
   ]
  },
  {
   "cell_type": "code",
   "execution_count": 33,
   "id": "b7633bf5-7f94-49cf-80d2-4929bbf37ce8",
   "metadata": {},
   "outputs": [
    {
     "data": {
      "text/plain": [
       "array([1, 1, 0, 0, 1, 1, 0, 0, 0, 1])"
      ]
     },
     "execution_count": 33,
     "metadata": {},
     "output_type": "execute_result"
    }
   ],
   "source": [
    "numbers_only_2=numbers_only_1%2\n",
    "numbers_only_2"
   ]
  },
  {
   "cell_type": "code",
   "execution_count": 34,
   "id": "fa47e9a3-89f2-4985-887a-1f1b6e70640e",
   "metadata": {},
   "outputs": [
    {
     "data": {
      "text/plain": [
       "array([ True,  True, False, False,  True,  True, False, False, False,\n",
       "        True])"
      ]
     },
     "execution_count": 34,
     "metadata": {},
     "output_type": "execute_result"
    }
   ],
   "source": [
    "my_mask = numbers_only_2 > 0\n",
    "my_mask"
   ]
  },
  {
   "cell_type": "code",
   "execution_count": 26,
   "id": "8c547a69-deab-4030-8079-136ccb245695",
   "metadata": {},
   "outputs": [
    {
     "data": {
      "text/plain": [
       "array(['A', 'C', 'E', 'G', 'I'], dtype='<U21')"
      ]
     },
     "execution_count": 26,
     "metadata": {},
     "output_type": "execute_result"
    }
   ],
   "source": [
    "np_array_2d[my_mask,1]"
   ]
  },
  {
   "cell_type": "code",
   "execution_count": 27,
   "id": "5f9b5461-f71b-4729-8bde-ff4c743edb43",
   "metadata": {},
   "outputs": [
    {
     "name": "stdout",
     "output_type": "stream",
     "text": [
      "['A' 'C' 'E' 'G' 'I']\n"
     ]
    }
   ],
   "source": [
    "print(np_array_2d[my_mask,1])"
   ]
  },
  {
   "cell_type": "markdown",
   "id": "ee906aee-0f68-4b9e-9003-32578b10c26b",
   "metadata": {},
   "source": [
    "## Exercise 3"
   ]
  },
  {
   "cell_type": "code",
   "execution_count": 55,
   "id": "b7f5f670-cec1-48f7-a425-a448b0d9d8b8",
   "metadata": {},
   "outputs": [],
   "source": [
    "array = np.array([[66, 50, 57, -1, -1],\n",
    " [92, -1, 88, -1, -1],\n",
    " [75, -1, -1, 76, -1],\n",
    " [-1, 51, 87, -1, -1],\n",
    " [71, -1, 67, -1, 69]])"
   ]
  },
  {
   "cell_type": "code",
   "execution_count": 56,
   "id": "b3cc39f0-e27a-43bf-9bd4-ce484e795ba3",
   "metadata": {},
   "outputs": [
    {
     "name": "stdout",
     "output_type": "stream",
     "text": [
      "[[ 1  0  1 -1 -1]\n",
      " [ 1 -1  1 -1 -1]\n",
      " [ 1 -1 -1  1 -1]\n",
      " [-1  1  1 -1 -1]\n",
      " [ 1 -1  1 -1  1]]\n"
     ]
    }
   ],
   "source": [
    "array[array < 50] = -1  \n",
    "array[array > 50] = 1 \n",
    "array[array == 50] = 0 #only works for int values\n",
    "\n",
    "print(array)"
   ]
  }
 ],
 "metadata": {
  "kernelspec": {
   "display_name": "Python 3 (ipykernel)",
   "language": "python",
   "name": "python3"
  },
  "language_info": {
   "codemirror_mode": {
    "name": "ipython",
    "version": 3
   },
   "file_extension": ".py",
   "mimetype": "text/x-python",
   "name": "python",
   "nbconvert_exporter": "python",
   "pygments_lexer": "ipython3",
   "version": "3.12.3"
  },
  "toc": {
   "base_numbering": 1,
   "nav_menu": {},
   "number_sections": true,
   "sideBar": true,
   "skip_h1_title": false,
   "title_cell": "Table of Contents",
   "title_sidebar": "Contents",
   "toc_cell": false,
   "toc_position": {},
   "toc_section_display": true,
   "toc_window_display": false
  },
  "vscode": {
   "interpreter": {
    "hash": "31f2aee4e71d21fbe5cf8b01ff0e069b9275f58929596ceb00d14d90e3e16cd6"
   }
  }
 },
 "nbformat": 4,
 "nbformat_minor": 5
}
