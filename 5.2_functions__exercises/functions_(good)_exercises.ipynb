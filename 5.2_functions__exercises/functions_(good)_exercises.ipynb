{
 "cells": [
  {
   "attachments": {},
   "cell_type": "markdown",
   "id": "123456",
   "metadata": {},
   "source": [
    "<div style=\"text-align:left;font-size:2em\"><span style=\"font-weight:bolder;font-size:1.25em\">SP2273 | Learning Portfolio</span><br><br><span style=\"font-weight:bold;color:darkred\">Functions (Good) Exercises</span></div>"
   ]
  },
  {
   "cell_type": "markdown",
   "id": "01834e3e-f6ac-45f8-b0dd-6f6e9244ce7f",
   "metadata": {},
   "source": [
    "## Exercise 1"
   ]
  },
  {
   "cell_type": "code",
   "execution_count": 29,
   "id": "85ee8e67-4282-4024-8838-fcc618c9181f",
   "metadata": {},
   "outputs": [],
   "source": [
    "def convert_celsius(temp_celsius, target_scale='Fahrenheit'):\n",
    "    if target_scale == 'Kelvin':\n",
    "        return temp_celsius + 273.15 # Convert Celsius to Kelvin\n",
    "    else:\n",
    "        return (temp_celsius * 9/5) + 32 # Convert Celsius to Fahrenheit"
   ]
  },
  {
   "cell_type": "code",
   "execution_count": 2,
   "id": "74722f6f-de57-428b-b504-a03576447509",
   "metadata": {},
   "outputs": [
    {
     "data": {
      "text/plain": [
       "77.0"
      ]
     },
     "execution_count": 2,
     "metadata": {},
     "output_type": "execute_result"
    }
   ],
   "source": [
    "convert_celsius(25)"
   ]
  },
  {
   "cell_type": "code",
   "execution_count": 3,
   "id": "a5344413-b221-453d-8309-9384ebd2a4ea",
   "metadata": {},
   "outputs": [
    {
     "data": {
      "text/plain": [
       "298.15"
      ]
     },
     "execution_count": 3,
     "metadata": {},
     "output_type": "execute_result"
    }
   ],
   "source": [
    "convert_celsius(25, target_scale='Kelvin')"
   ]
  },
  {
   "cell_type": "markdown",
   "id": "cd139e86-3f4f-4ea9-a460-69a8462effec",
   "metadata": {},
   "source": [
    "## Exercise 2"
   ]
  },
  {
   "cell_type": "code",
   "execution_count": 30,
   "id": "a5830a46-e517-4fcd-8188-c3c5b4746cd2",
   "metadata": {},
   "outputs": [],
   "source": [
    "def convert_fahrenheit(temp_fahrenheit, target_scale='Celsius'):\n",
    "    if target_scale == 'Kelvin':\n",
    "        return (temp_fahrenheit - 32)* 5/9 + 273.15  # Convert Fahrenheit to Kelvin\n",
    "    else:\n",
    "        return (temp_fahrenheit - 32)* 5/9 # Convert Fahrenheit to Celsius"
   ]
  },
  {
   "cell_type": "code",
   "execution_count": 9,
   "id": "6d986c4c-b006-4719-a047-3be215370e46",
   "metadata": {},
   "outputs": [
    {
     "data": {
      "text/plain": [
       "25.0"
      ]
     },
     "execution_count": 9,
     "metadata": {},
     "output_type": "execute_result"
    }
   ],
   "source": [
    "convert_fahrenheit(77)"
   ]
  },
  {
   "cell_type": "code",
   "execution_count": 10,
   "id": "6e55521e-9c2f-43a9-9ab8-be933db41641",
   "metadata": {},
   "outputs": [
    {
     "data": {
      "text/plain": [
       "298.15"
      ]
     },
     "execution_count": 10,
     "metadata": {},
     "output_type": "execute_result"
    }
   ],
   "source": [
    "convert_fahrenheit(77, target_scale='Kelvin')"
   ]
  },
  {
   "cell_type": "markdown",
   "id": "28456eec-c1cd-4063-9d00-e0c2f2548e42",
   "metadata": {},
   "source": [
    "## Exercise 3"
   ]
  },
  {
   "cell_type": "code",
   "execution_count": 25,
   "id": "ee84b131-6017-4cd5-b92f-29a86c437c56",
   "metadata": {},
   "outputs": [],
   "source": [
    "def convert_temperature(temp, source_scale, target_scale):\n",
    "    if source_scale == 'Celsius':\n",
    "        if target_scale == 'Kelvin':\n",
    "            return temp + 273.15 \n",
    "        if target_scale == 'Fahrenheit':\n",
    "            return (temp * 9/5) + 32 \n",
    "    if source_scale == 'Fahrenheit':\n",
    "        if target_scale == 'Kelvin':\n",
    "            return (temp - 32)* 5/9 + 273.15\n",
    "        if target_scale == 'Celsius':\n",
    "            return (temp - 32)* 5/9\n",
    "    if source_scale == 'Kelvin':\n",
    "        if target_scale == 'Celsius':\n",
    "            return temp - 273.15 \n",
    "        if target_scale == 'Fahrenheit':\n",
    "            return (temp - 273.15) * 9/5 + 32      "
   ]
  },
  {
   "cell_type": "code",
   "execution_count": 22,
   "id": "968b4e9e-45ce-4335-ad50-94c42deaaf71",
   "metadata": {},
   "outputs": [
    {
     "data": {
      "text/plain": [
       "77.0"
      ]
     },
     "execution_count": 22,
     "metadata": {},
     "output_type": "execute_result"
    }
   ],
   "source": [
    "convert_temperature(25, source_scale='Celsius',target_scale='Fahrenheit')"
   ]
  },
  {
   "cell_type": "code",
   "execution_count": 28,
   "id": "3433068d-f8db-4a0b-acdb-56ff9bd13ef1",
   "metadata": {},
   "outputs": [
    {
     "data": {
      "text/plain": [
       "298.15"
      ]
     },
     "execution_count": 28,
     "metadata": {},
     "output_type": "execute_result"
    }
   ],
   "source": [
    "convert_temperature(77, source_scale='Fahrenheit',target_scale='Kelvin')"
   ]
  },
  {
   "cell_type": "code",
   "execution_count": 27,
   "id": "32a00a57-efaf-48a8-b0cc-4072d04df023",
   "metadata": {},
   "outputs": [
    {
     "data": {
      "text/plain": [
       "25.0"
      ]
     },
     "execution_count": 27,
     "metadata": {},
     "output_type": "execute_result"
    }
   ],
   "source": [
    "convert_temperature(298.15, source_scale='Kelvin',target_scale='Celsius')"
   ]
  },
  {
   "cell_type": "markdown",
   "id": "df61d57a-d99d-49c0-a7cd-a0916cfa2d99",
   "metadata": {},
   "source": [
    "### Exercise 3, Attempt 2"
   ]
  },
  {
   "cell_type": "code",
   "execution_count": 7,
   "id": "32165154-22b9-4bf7-b202-da2c9d9b4840",
   "metadata": {},
   "outputs": [],
   "source": [
    "def convert_temperature(temp, source_scale, target_scale):\n",
    "    if source_scale == 'Celsius':\n",
    "        if target_scale == 'Kelvin':\n",
    "            return temp + 273.15 \n",
    "        else:\n",
    "            return (temp * 9/5) + 32 \n",
    "    if source_scale == 'Fahrenheit':\n",
    "        if target_scale == 'Kelvin':\n",
    "            return (temp - 32)* 5/9 + 273.15\n",
    "        else:\n",
    "            return (temp - 32)* 5/9\n",
    "    else:\n",
    "        if target_scale == 'Celsius':\n",
    "            return temp - 273.15 \n",
    "        else:\n",
    "            return (temp - 273.15) * 9/5 + 32      "
   ]
  },
  {
   "cell_type": "code",
   "execution_count": 8,
   "id": "1cc42f26-9249-4365-9fdd-4aafa9ae3e87",
   "metadata": {},
   "outputs": [
    {
     "data": {
      "text/plain": [
       "77.0"
      ]
     },
     "execution_count": 8,
     "metadata": {},
     "output_type": "execute_result"
    }
   ],
   "source": [
    "convert_temperature(25, source_scale='Celsius',target_scale='Fahrenheit')"
   ]
  },
  {
   "cell_type": "code",
   "execution_count": 9,
   "id": "e7bdc1be-a741-44a3-ac7a-3d2c08c3394f",
   "metadata": {},
   "outputs": [
    {
     "data": {
      "text/plain": [
       "298.15"
      ]
     },
     "execution_count": 9,
     "metadata": {},
     "output_type": "execute_result"
    }
   ],
   "source": [
    "convert_temperature(77, source_scale='Fahrenheit',target_scale='Kelvin')"
   ]
  },
  {
   "cell_type": "code",
   "execution_count": 10,
   "id": "9a3c6967-e1aa-4bd7-a31f-94a54728c9ad",
   "metadata": {},
   "outputs": [
    {
     "data": {
      "text/plain": [
       "25.0"
      ]
     },
     "execution_count": 10,
     "metadata": {},
     "output_type": "execute_result"
    }
   ],
   "source": [
    "convert_temperature(298.15, source_scale='Kelvin',target_scale='Celsius')"
   ]
  }
 ],
 "metadata": {
  "kernelspec": {
   "display_name": "Python 3 (ipykernel)",
   "language": "python",
   "name": "python3"
  },
  "language_info": {
   "codemirror_mode": {
    "name": "ipython",
    "version": 3
   },
   "file_extension": ".py",
   "mimetype": "text/x-python",
   "name": "python",
   "nbconvert_exporter": "python",
   "pygments_lexer": "ipython3",
   "version": "3.12.3"
  },
  "toc": {
   "base_numbering": 1,
   "nav_menu": {},
   "number_sections": true,
   "sideBar": true,
   "skip_h1_title": false,
   "title_cell": "Table of Contents",
   "title_sidebar": "Contents",
   "toc_cell": false,
   "toc_position": {},
   "toc_section_display": true,
   "toc_window_display": false
  },
  "vscode": {
   "interpreter": {
    "hash": "31f2aee4e71d21fbe5cf8b01ff0e069b9275f58929596ceb00d14d90e3e16cd6"
   }
  }
 },
 "nbformat": 4,
 "nbformat_minor": 5
}
