{
 "cells": [
  {
   "attachments": {},
   "cell_type": "markdown",
   "id": "123456",
   "metadata": {},
   "source": [
    "<div style=\"text-align:left;font-size:2em\"><span style=\"font-weight:bolder;font-size:1.25em\">SP2273 | Learning Portfolio</span><br><br><span style=\"font-weight:bold;color:darkred\">Functions (Need) Exercises</span></div>"
   ]
  },
  {
   "cell_type": "markdown",
   "id": "e27cd3e6-a8b3-4935-b0e9-852b0fc0e2f6",
   "metadata": {},
   "source": [
    "## Exercise 1"
   ]
  },
  {
   "cell_type": "code",
   "execution_count": 2,
   "id": "23446668-28ca-4d42-b3bd-29aeec5e3c9a",
   "metadata": {},
   "outputs": [],
   "source": [
    "def greeting(name):\n",
    "    if name == 'Batman':\n",
    "        return 'Hello Batman! So, nice to meet you!'\n",
    "    return f'Hello {name}!'"
   ]
  },
  {
   "cell_type": "markdown",
   "id": "872599e5-9708-474d-952d-ed950852bad9",
   "metadata": {},
   "source": [
    "The condition is that if name given is 'Batman', it would return 'Hello Batman! So, nice to meet you!'. When the if condition is met, the code will end there and not return 'Hello {name}'. However, if this condition is not met, the function will skip the block of code and return 'Hello {name}' instead without the need of an else statement.  "
   ]
  },
  {
   "cell_type": "code",
   "execution_count": 14,
   "id": "37863bd3-8f82-49c7-9609-cc38a967318d",
   "metadata": {},
   "outputs": [],
   "source": [
    "def hello(name):\n",
    "    if name == 'Robin':\n",
    "        print('Hello Robin! So, nice to meet you!')\n",
    "    print(f'Hello {name}!')"
   ]
  },
  {
   "cell_type": "code",
   "execution_count": 15,
   "id": "1adc981c-48a9-4a1b-8c6f-c935bdf15ef5",
   "metadata": {},
   "outputs": [
    {
     "name": "stdout",
     "output_type": "stream",
     "text": [
      "Hello Robin! So, nice to meet you!\n",
      "Hello Robin!\n"
     ]
    }
   ],
   "source": [
    "hello('Robin')"
   ]
  },
  {
   "cell_type": "markdown",
   "id": "77549440-f034-41a6-8a45-c49324521f7f",
   "metadata": {},
   "source": [
    "From above, if print is used instead of return, the code will not end even after the condition is met and both statements will be printed."
   ]
  },
  {
   "cell_type": "markdown",
   "id": "8b978825-10f0-4d2f-b863-e3653a77398b",
   "metadata": {},
   "source": [
    "## Exercise 2"
   ]
  },
  {
   "cell_type": "code",
   "execution_count": null,
   "id": "11accf85-d096-44c2-bf60-b1a510c54125",
   "metadata": {},
   "outputs": [],
   "source": []
  },
  {
   "cell_type": "markdown",
   "id": "7a35efa5-34bf-4b3c-9e7b-15b0613db9e8",
   "metadata": {},
   "source": [
    "## Exercise 3"
   ]
  },
  {
   "cell_type": "code",
   "execution_count": null,
   "id": "2894c542-04a1-476c-86d2-46761e14ccef",
   "metadata": {},
   "outputs": [],
   "source": []
  }
 ],
 "metadata": {
  "kernelspec": {
   "display_name": "Python 3 (ipykernel)",
   "language": "python",
   "name": "python3"
  },
  "language_info": {
   "codemirror_mode": {
    "name": "ipython",
    "version": 3
   },
   "file_extension": ".py",
   "mimetype": "text/x-python",
   "name": "python",
   "nbconvert_exporter": "python",
   "pygments_lexer": "ipython3",
   "version": "3.12.3"
  },
  "toc": {
   "base_numbering": 1,
   "nav_menu": {},
   "number_sections": true,
   "sideBar": true,
   "skip_h1_title": false,
   "title_cell": "Table of Contents",
   "title_sidebar": "Contents",
   "toc_cell": false,
   "toc_position": {},
   "toc_section_display": true,
   "toc_window_display": false
  },
  "vscode": {
   "interpreter": {
    "hash": "31f2aee4e71d21fbe5cf8b01ff0e069b9275f58929596ceb00d14d90e3e16cd6"
   }
  }
 },
 "nbformat": 4,
 "nbformat_minor": 5
}
