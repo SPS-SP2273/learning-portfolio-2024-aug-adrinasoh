{
 "cells": [
  {
   "attachments": {},
   "cell_type": "markdown",
   "id": "123456",
   "metadata": {},
   "source": [
    "<div style=\"text-align:left;font-size:2em\"><span style=\"font-weight:bolder;font-size:1.25em\">SP2273 | Learning Portfolio</span><br><br><span style=\"font-weight:bold;color:darkred\">Functions (Need)</span></div>"
   ]
  },
  {
   "attachments": {},
   "cell_type": "markdown",
   "id": "8ca79f90",
   "metadata": {},
   "source": [
    "# What to expect in this chapter"
   ]
  },
  {
   "cell_type": "markdown",
   "id": "e7ec4e96-7029-4395-ac6d-3339e0dca4d2",
   "metadata": {},
   "source": [
    "A function that returns something vs one that does not"
   ]
  },
  {
   "cell_type": "code",
   "execution_count": 5,
   "id": "facf016d-48d4-4b6b-884b-2f1ec132a4cd",
   "metadata": {},
   "outputs": [
    {
     "name": "stdout",
     "output_type": "stream",
     "text": [
      "hahaha\n"
     ]
    }
   ],
   "source": [
    "x=print('hahaha')"
   ]
  },
  {
   "cell_type": "code",
   "execution_count": 7,
   "id": "aca36690-cb2b-472e-b211-d9fbfb680645",
   "metadata": {},
   "outputs": [
    {
     "data": {
      "text/plain": [
       "3"
      ]
     },
     "execution_count": 7,
     "metadata": {},
     "output_type": "execute_result"
    }
   ],
   "source": [
    "sum([1,2])"
   ]
  },
  {
   "cell_type": "code",
   "execution_count": 9,
   "id": "6702afea-bd1a-4965-972e-ebaf9262d286",
   "metadata": {},
   "outputs": [],
   "source": [
    "y=sum([1,2])"
   ]
  },
  {
   "cell_type": "code",
   "execution_count": 10,
   "id": "e1fd77d1-6d2f-4ff3-991c-081861a84f1b",
   "metadata": {},
   "outputs": [
    {
     "name": "stdout",
     "output_type": "stream",
     "text": [
      "x=None, y=3\n"
     ]
    }
   ],
   "source": [
    "print(f'{x=}, {y=}')"
   ]
  },
  {
   "attachments": {},
   "cell_type": "markdown",
   "id": "ae1c904d",
   "metadata": {},
   "source": [
    "# 1 User-defined functions"
   ]
  },
  {
   "attachments": {},
   "cell_type": "markdown",
   "id": "884e5dfc",
   "metadata": {},
   "source": [
    "## 1.1 Named Functions"
   ]
  },
  {
   "attachments": {},
   "cell_type": "markdown",
   "id": "464e4b08",
   "metadata": {},
   "source": [
    "### Named functions that **return**"
   ]
  },
  {
   "cell_type": "code",
   "execution_count": 2,
   "id": "fda54795",
   "metadata": {},
   "outputs": [],
   "source": [
    "def greeting(name):\n",
    "    if name == 'Batman':\n",
    "        return 'Hello Batman! So, nice to meet you!'\n",
    "    else:\n",
    "        return f'Hello {name}!'"
   ]
  },
  {
   "cell_type": "code",
   "execution_count": 11,
   "id": "ae5b7702-16a2-49b6-9da4-af876a5047be",
   "metadata": {},
   "outputs": [
    {
     "data": {
      "text/plain": [
       "'Hello Batman! So, nice to meet you!'"
      ]
     },
     "execution_count": 11,
     "metadata": {},
     "output_type": "execute_result"
    }
   ],
   "source": [
    "name = 'Batman'\n",
    "\n",
    "greeting(name)"
   ]
  },
  {
   "cell_type": "code",
   "execution_count": 12,
   "id": "b842141c-fd12-4037-8d4b-afce4e1f1099",
   "metadata": {},
   "outputs": [
    {
     "data": {
      "text/plain": [
       "'Hello Joker!'"
      ]
     },
     "execution_count": 12,
     "metadata": {},
     "output_type": "execute_result"
    }
   ],
   "source": [
    "name = 'Joker'\n",
    "\n",
    "greeting(name)"
   ]
  },
  {
   "cell_type": "code",
   "execution_count": 13,
   "id": "92cbf2ac-e04b-4dbd-b83f-278aff8a8a09",
   "metadata": {},
   "outputs": [
    {
     "data": {
      "text/plain": [
       "'Hello Super Man!'"
      ]
     },
     "execution_count": 13,
     "metadata": {},
     "output_type": "execute_result"
    }
   ],
   "source": [
    "xyz = 'Super Man'\n",
    "\n",
    "greeting(xyz)"
   ]
  },
  {
   "cell_type": "code",
   "execution_count": 14,
   "id": "a066dc05-226e-489b-85e1-6fd1211b357d",
   "metadata": {},
   "outputs": [
    {
     "data": {
      "text/plain": [
       "'Hello Batman! So, nice to meet you!'"
      ]
     },
     "execution_count": 14,
     "metadata": {},
     "output_type": "execute_result"
    }
   ],
   "source": [
    "greeting(name='Batman')"
   ]
  },
  {
   "cell_type": "code",
   "execution_count": 15,
   "id": "8c5533b8-6c28-443a-a00e-208eefef4542",
   "metadata": {},
   "outputs": [
    {
     "ename": "TypeError",
     "evalue": "greeting() got an unexpected keyword argument 'xyz'",
     "output_type": "error",
     "traceback": [
      "\u001b[1;31m---------------------------------------------------------------------------\u001b[0m",
      "\u001b[1;31mTypeError\u001b[0m                                 Traceback (most recent call last)",
      "Cell \u001b[1;32mIn[15], line 1\u001b[0m\n\u001b[1;32m----> 1\u001b[0m \u001b[43mgreeting\u001b[49m\u001b[43m(\u001b[49m\u001b[43mxyz\u001b[49m\u001b[38;5;241;43m=\u001b[39;49m\u001b[38;5;124;43m'\u001b[39;49m\u001b[38;5;124;43mblack widow\u001b[39;49m\u001b[38;5;124;43m'\u001b[39;49m\u001b[43m)\u001b[49m\n",
      "\u001b[1;31mTypeError\u001b[0m: greeting() got an unexpected keyword argument 'xyz'"
     ]
    }
   ],
   "source": [
    "greeting(xyz='black widow')"
   ]
  },
  {
   "cell_type": "code",
   "execution_count": 16,
   "id": "54c3b0b7-205d-46b0-a3c3-e32122459b10",
   "metadata": {},
   "outputs": [],
   "source": [
    "def greeting(name, sidekick):\n",
    "    if name == 'Batman':\n",
    "        return 'Hello Batman! So, nice to meet you!'\n",
    "    else:\n",
    "        return f'Hello {name}!'"
   ]
  },
  {
   "cell_type": "code",
   "execution_count": 17,
   "id": "f2133a07-06c5-4109-8649-de171721d591",
   "metadata": {},
   "outputs": [
    {
     "ename": "TypeError",
     "evalue": "greeting() missing 1 required positional argument: 'sidekick'",
     "output_type": "error",
     "traceback": [
      "\u001b[1;31m---------------------------------------------------------------------------\u001b[0m",
      "\u001b[1;31mTypeError\u001b[0m                                 Traceback (most recent call last)",
      "Cell \u001b[1;32mIn[17], line 3\u001b[0m\n\u001b[0;32m      1\u001b[0m name \u001b[38;5;241m=\u001b[39m \u001b[38;5;124m'\u001b[39m\u001b[38;5;124mJoker\u001b[39m\u001b[38;5;124m'\u001b[39m\n\u001b[1;32m----> 3\u001b[0m \u001b[43mgreeting\u001b[49m\u001b[43m(\u001b[49m\u001b[43mname\u001b[49m\u001b[43m)\u001b[49m\n",
      "\u001b[1;31mTypeError\u001b[0m: greeting() missing 1 required positional argument: 'sidekick'"
     ]
    }
   ],
   "source": [
    "name = 'Joker'\n",
    "\n",
    "greeting(name)"
   ]
  },
  {
   "cell_type": "code",
   "execution_count": 24,
   "id": "98ef1e0e-f07c-4211-ac16-6c05ae212075",
   "metadata": {},
   "outputs": [
    {
     "data": {
      "text/plain": [
       "'Hello Joker!'"
      ]
     },
     "execution_count": 24,
     "metadata": {},
     "output_type": "execute_result"
    }
   ],
   "source": [
    "name = 'Joker'\n",
    "sidekick ='Harley'\n",
    "\n",
    "greeting(name, sidekick)"
   ]
  },
  {
   "cell_type": "code",
   "execution_count": 23,
   "id": "4127862d-7e8d-4a4f-9a90-41ebb626d7bd",
   "metadata": {},
   "outputs": [
    {
     "data": {
      "text/plain": [
       "'Hello Batman! So, nice to meet you!'"
      ]
     },
     "execution_count": 23,
     "metadata": {},
     "output_type": "execute_result"
    }
   ],
   "source": [
    "name = 'Batman'\n",
    "sidekick ='Harley'\n",
    "\n",
    "greeting(name, sidekick)"
   ]
  },
  {
   "cell_type": "markdown",
   "id": "88f76cb5-ad31-4412-8ec4-2e70296c1baa",
   "metadata": {},
   "source": [
    "**Math**"
   ]
  },
  {
   "cell_type": "code",
   "execution_count": 25,
   "id": "36e282df-c5fe-4028-8a50-9d7d6bd3a102",
   "metadata": {},
   "outputs": [],
   "source": [
    "import numpy as np"
   ]
  },
  {
   "cell_type": "code",
   "execution_count": 34,
   "id": "e1f8f56c-9a14-491c-b231-899ad47d6874",
   "metadata": {},
   "outputs": [],
   "source": [
    "def basic_stats(numbers):\n",
    "    np_numbers = np.array(numbers)\n",
    "    my_min = np_numbers.min()\n",
    "    my_max = np_numbers.max()\n",
    "    my_mean = np_numbers.mean()\n",
    "    return my_max, my_min, my_mean #comes out as a tuple"
   ]
  },
  {
   "cell_type": "code",
   "execution_count": 28,
   "id": "99d9c22e-4bbd-4952-917b-557f79979f49",
   "metadata": {},
   "outputs": [
    {
     "data": {
      "text/plain": [
       "(np.int64(5), np.int64(1), np.float64(3.0))"
      ]
     },
     "execution_count": 28,
     "metadata": {},
     "output_type": "execute_result"
    }
   ],
   "source": [
    "numbers = ([1,2,3,4,5])\n",
    "\n",
    "basic_stats(numbers)"
   ]
  },
  {
   "cell_type": "code",
   "execution_count": 44,
   "id": "d3df1415-832b-4f6b-8c74-a77c94ac37a0",
   "metadata": {},
   "outputs": [],
   "source": [
    "def basic_stats(numbers):\n",
    "    np_numbers = np.array(numbers)\n",
    "    my_min = np_numbers.min()\n",
    "    my_max = np_numbers.max()\n",
    "    my_mean = np_numbers.mean()\n",
    "    return [my_max, my_min, my_mean] #retuns as a list"
   ]
  },
  {
   "cell_type": "code",
   "execution_count": 45,
   "id": "a82114ae-a019-41c1-9419-23a9042ddc0c",
   "metadata": {},
   "outputs": [
    {
     "data": {
      "text/plain": [
       "[np.int64(5), np.int64(1), np.float64(3.0)]"
      ]
     },
     "execution_count": 45,
     "metadata": {},
     "output_type": "execute_result"
    }
   ],
   "source": [
    "basic_stats([1,2,3,4,5])"
   ]
  },
  {
   "cell_type": "code",
   "execution_count": 41,
   "id": "e0e346f0-170a-4f2b-8510-53520d9c24dd",
   "metadata": {},
   "outputs": [],
   "source": [
    "def basic_stats(numbers):\n",
    "    np_numbers = np.array(numbers)\n",
    "    my_min = np_numbers.min()\n",
    "    my_max = np_numbers.max()\n",
    "    my_mean = np_numbers.mean()\n",
    "    return np.array([my_max, my_min, my_mean]) #retuns as a array"
   ]
  },
  {
   "cell_type": "code",
   "execution_count": 42,
   "id": "847aa439-0ca6-4988-8232-16e87243c347",
   "metadata": {},
   "outputs": [
    {
     "data": {
      "text/plain": [
       "array([5., 1., 3.])"
      ]
     },
     "execution_count": 42,
     "metadata": {},
     "output_type": "execute_result"
    }
   ],
   "source": [
    "basic_stats([1,2,3,4,5])"
   ]
  },
  {
   "cell_type": "code",
   "execution_count": 48,
   "id": "018a80ec-2643-4b9c-81c6-cd9e75594e86",
   "metadata": {},
   "outputs": [],
   "source": [
    "def basic_stats(numbers):\n",
    "    np_numbers = np.array(numbers)\n",
    "    my_min = int(np_numbers.min())\n",
    "    my_max = int(np_numbers.max())\n",
    "    my_mean = int(np_numbers.mean())\n",
    "    return [my_max, my_min, my_mean] #retuns as a list"
   ]
  },
  {
   "cell_type": "code",
   "execution_count": 49,
   "id": "7909fda7-885f-44be-ae15-bfae94cfba63",
   "metadata": {},
   "outputs": [
    {
     "data": {
      "text/plain": [
       "[5, 1, 3]"
      ]
     },
     "execution_count": 49,
     "metadata": {},
     "output_type": "execute_result"
    }
   ],
   "source": [
    "basic_stats([1,2,3,4,5])"
   ]
  },
  {
   "attachments": {},
   "cell_type": "markdown",
   "id": "4d8d0458-d80b-4031-8403-078bb293493a",
   "metadata": {},
   "source": [
    "### Named functions that don’t return"
   ]
  },
  {
   "cell_type": "code",
   "execution_count": 54,
   "id": "feaa6f26-76e1-4ad6-a7ea-0b24d3dc6319",
   "metadata": {},
   "outputs": [],
   "source": [
    "my_short_function = lambda name: f\"Hello {name}!\""
   ]
  },
  {
   "cell_type": "code",
   "execution_count": 55,
   "id": "ebf3af25-83b4-4520-95c1-42dab339a2aa",
   "metadata": {},
   "outputs": [
    {
     "data": {
      "text/plain": [
       "'Hello Super Man!'"
      ]
     },
     "execution_count": 55,
     "metadata": {},
     "output_type": "execute_result"
    }
   ],
   "source": [
    "my_short_function(name=\"Super Man\")"
   ]
  },
  {
   "attachments": {},
   "cell_type": "markdown",
   "id": "531dfe00",
   "metadata": {},
   "source": [
    "## 1.2 Anonymous functions"
   ]
  },
  {
   "cell_type": "code",
   "execution_count": 50,
   "id": "7c511673",
   "metadata": {},
   "outputs": [],
   "source": [
    "numbers=[[9, 0, -10],\n",
    "         [8, 1, -11],\n",
    "         [7, 2, -12],\n",
    "         [6, 3, -13],\n",
    "         [5, 4, -14],\n",
    "         [4, 5, -15],\n",
    "         [3, 6, -16],\n",
    "         [2, 7, -17],\n",
    "         [1, 8, -18],\n",
    "         [0, 9, -19]]"
   ]
  },
  {
   "cell_type": "code",
   "execution_count": 51,
   "id": "cd662e8a-3557-430b-814f-13bfcc7bd6b7",
   "metadata": {},
   "outputs": [
    {
     "data": {
      "text/plain": [
       "[[0, 9, -19],\n",
       " [1, 8, -18],\n",
       " [2, 7, -17],\n",
       " [3, 6, -16],\n",
       " [4, 5, -15],\n",
       " [5, 4, -14],\n",
       " [6, 3, -13],\n",
       " [7, 2, -12],\n",
       " [8, 1, -11],\n",
       " [9, 0, -10]]"
      ]
     },
     "execution_count": 51,
     "metadata": {},
     "output_type": "execute_result"
    }
   ],
   "source": [
    "sorted(numbers)"
   ]
  },
  {
   "cell_type": "code",
   "execution_count": 53,
   "id": "20c4ba11-af4d-4717-9a31-1704e01b265e",
   "metadata": {},
   "outputs": [
    {
     "data": {
      "text/plain": [
       "[[9, 0, -10],\n",
       " [8, 1, -11],\n",
       " [7, 2, -12],\n",
       " [6, 3, -13],\n",
       " [5, 4, -14],\n",
       " [4, 5, -15],\n",
       " [3, 6, -16],\n",
       " [2, 7, -17],\n",
       " [1, 8, -18],\n",
       " [0, 9, -19]]"
      ]
     },
     "execution_count": 53,
     "metadata": {},
     "output_type": "execute_result"
    }
   ],
   "source": [
    "def sort_my_function(numbers):\n",
    "    return numbers[1]\n",
    "\n",
    "sorted(numbers, key=sort_my_function)"
   ]
  },
  {
   "attachments": {},
   "cell_type": "markdown",
   "id": "b38af30e",
   "metadata": {},
   "source": [
    "## 1.3 Optional arguments"
   ]
  },
  {
   "cell_type": "code",
   "execution_count": 56,
   "id": "b37bd06a-ed5f-470e-842a-563640897a7d",
   "metadata": {},
   "outputs": [],
   "source": [
    "def greeting(name='no one'):\n",
    "    if name == 'Batman':\n",
    "        return 'Hello Batman! So, nice to meet you!'\n",
    "    else:\n",
    "        return f'Hello {name}!'"
   ]
  },
  {
   "cell_type": "code",
   "execution_count": 57,
   "id": "47ff7b68-75fe-4965-85b7-30702a737047",
   "metadata": {},
   "outputs": [
    {
     "data": {
      "text/plain": [
       "'Hello Batman! So, nice to meet you!'"
      ]
     },
     "execution_count": 57,
     "metadata": {},
     "output_type": "execute_result"
    }
   ],
   "source": [
    "greeting('Batman')"
   ]
  },
  {
   "cell_type": "code",
   "execution_count": 59,
   "id": "27fc5676-5c41-4c27-9810-d3716277e666",
   "metadata": {},
   "outputs": [],
   "source": [
    "def greeting(name='no one', pre='Super'):\n",
    "    if name == 'Batman':\n",
    "        return 'Hello Batman! So, nice to meet you!'\n",
    "    else:\n",
    "        return f'Hello {pre} {name}!'"
   ]
  },
  {
   "cell_type": "code",
   "execution_count": 60,
   "id": "4c492fb1-3720-49f0-9835-23602594a8fc",
   "metadata": {},
   "outputs": [
    {
     "data": {
      "text/plain": [
       "'Hello Super Robin!'"
      ]
     },
     "execution_count": 60,
     "metadata": {},
     "output_type": "execute_result"
    }
   ],
   "source": [
    "greeting('Robin')"
   ]
  },
  {
   "cell_type": "code",
   "execution_count": 61,
   "id": "167aab03-73f1-4b30-a63e-8a17004d2955",
   "metadata": {},
   "outputs": [
    {
     "data": {
      "text/plain": [
       "'Hello little Robin!'"
      ]
     },
     "execution_count": 61,
     "metadata": {},
     "output_type": "execute_result"
    }
   ],
   "source": [
    "greeting('Robin', pre='little')"
   ]
  },
  {
   "cell_type": "code",
   "execution_count": 62,
   "id": "61d3f7a2-b4cc-449d-8757-8b1ba01cfc16",
   "metadata": {},
   "outputs": [
    {
     "name": "stdout",
     "output_type": "stream",
     "text": [
      "I am Batman!\n"
     ]
    }
   ],
   "source": [
    "print('I', 'am', 'Batman!')"
   ]
  },
  {
   "cell_type": "code",
   "execution_count": 63,
   "id": "a8b0883b-00e8-47c4-b68e-9c680075d46e",
   "metadata": {},
   "outputs": [
    {
     "name": "stdout",
     "output_type": "stream",
     "text": [
      "I---am---Batman!\n"
     ]
    }
   ],
   "source": [
    "print('I', 'am', 'Batman!', sep='---')  "
   ]
  },
  {
   "attachments": {},
   "cell_type": "markdown",
   "id": "16eecb43",
   "metadata": {},
   "source": [
    "## 1.4 The importance of functions?"
   ]
  },
  {
   "attachments": {},
   "cell_type": "markdown",
   "id": "ba2fbe65",
   "metadata": {},
   "source": [
    "### An argument for functions"
   ]
  },
  {
   "cell_type": "code",
   "execution_count": null,
   "id": "edbf30b6",
   "metadata": {},
   "outputs": [],
   "source": [
    "\n",
    "# Your code here\n"
   ]
  },
  {
   "attachments": {},
   "cell_type": "markdown",
   "id": "30f6a65c",
   "metadata": {},
   "source": [
    "### A word of caution"
   ]
  },
  {
   "cell_type": "code",
   "execution_count": null,
   "id": "efaf14b9",
   "metadata": {},
   "outputs": [],
   "source": [
    "\n",
    "# Your code here\n"
   ]
  }
 ],
 "metadata": {
  "kernelspec": {
   "display_name": "Python 3 (ipykernel)",
   "language": "python",
   "name": "python3"
  },
  "language_info": {
   "codemirror_mode": {
    "name": "ipython",
    "version": 3
   },
   "file_extension": ".py",
   "mimetype": "text/x-python",
   "name": "python",
   "nbconvert_exporter": "python",
   "pygments_lexer": "ipython3",
   "version": "3.12.3"
  },
  "toc": {
   "base_numbering": 1,
   "nav_menu": {},
   "number_sections": true,
   "sideBar": true,
   "skip_h1_title": false,
   "title_cell": "Table of Contents",
   "title_sidebar": "Contents",
   "toc_cell": false,
   "toc_position": {},
   "toc_section_display": true,
   "toc_window_display": false
  },
  "vscode": {
   "interpreter": {
    "hash": "31f2aee4e71d21fbe5cf8b01ff0e069b9275f58929596ceb00d14d90e3e16cd6"
   }
  }
 },
 "nbformat": 4,
 "nbformat_minor": 5
}
