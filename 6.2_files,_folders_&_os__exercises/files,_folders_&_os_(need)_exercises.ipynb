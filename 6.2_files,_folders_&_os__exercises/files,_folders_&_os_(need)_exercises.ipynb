{
 "cells": [
  {
   "attachments": {},
   "cell_type": "markdown",
   "id": "123456",
   "metadata": {},
   "source": [
    "<div style=\"text-align:left;font-size:2em\"><span style=\"font-weight:bolder;font-size:1.25em\">SP2273 | Learning Portfolio</span><br><br><span style=\"font-weight:bold;color:darkred\">Files, Folders & OS (Need) Exercises</span></div>"
   ]
  },
  {
   "cell_type": "markdown",
   "id": "b7302a0d-92d6-42c4-96de-ba6f15f5c230",
   "metadata": {},
   "source": [
    "# Task 1"
   ]
  },
  {
   "cell_type": "code",
   "execution_count": 1,
   "id": "c4063879-47f9-41f1-ab91-98246bff1e43",
   "metadata": {},
   "outputs": [],
   "source": [
    "dictionary = {\n",
    "'jan': '01', 'feb': '02', 'mar': '03',\n",
    "'apr': '04', 'may': '05', 'jun': '06',\n",
    "'jul': '07', 'aug': '08', 'sep': '09',\n",
    "'oct': '10', 'nov': '11', 'dec': '12'\n",
    "}"
   ]
  },
  {
   "cell_type": "code",
   "execution_count": 2,
   "id": "c100aba0-9689-4c8f-9dc8-370277de3cf7",
   "metadata": {},
   "outputs": [
    {
     "data": {
      "text/plain": [
       "'10'"
      ]
     },
     "execution_count": 2,
     "metadata": {},
     "output_type": "execute_result"
    }
   ],
   "source": [
    "dictionary['oct']"
   ]
  },
  {
   "cell_type": "code",
   "execution_count": 3,
   "id": "44b0b6d9-a1ab-4e21-96a9-ae109ac31940",
   "metadata": {},
   "outputs": [
    {
     "data": {
      "text/plain": [
       "'11-08-singapore.txt'"
      ]
     },
     "execution_count": 3,
     "metadata": {},
     "output_type": "execute_result"
    }
   ],
   "source": [
    "result = 'nov-08_singapore.txt'\n",
    "\n",
    "for month, number in dictionary.items():\n",
    "    result = result.replace(month,number)\n",
    "    result = result.replace('_','-')\n",
    "result"
   ]
  },
  {
   "cell_type": "markdown",
   "id": "97deb7d0-0cde-4a0f-b744-492e981a30d6",
   "metadata": {},
   "source": [
    "# Task 2"
   ]
  },
  {
   "cell_type": "code",
   "execution_count": 4,
   "id": "c306a157-e12d-4b80-a2e4-fa24fccfea59",
   "metadata": {},
   "outputs": [],
   "source": [
    "dictionary = {\n",
    "'jan': '01', 'feb': '02', 'mar': '03',\n",
    "'apr': '04', 'may': '05', 'jun': '06',\n",
    "'jul': '07', 'aug': '08', 'sep': '09',\n",
    "'oct': '10', 'nov': '11', 'dec': '12'\n",
    "}"
   ]
  },
  {
   "cell_type": "code",
   "execution_count": 5,
   "id": "06ec48ee-aa99-4e36-9433-10e3c50b58fe",
   "metadata": {},
   "outputs": [],
   "source": [
    "def rename_my_file(old_file_name):\n",
    "    for month, number in dictionary.items():\n",
    "        old_file_name = old_file_name.replace(month,number)\n",
    "        old_file_name = old_file_name.replace('_','-')\n",
    "    return old_file_name"
   ]
  },
  {
   "cell_type": "code",
   "execution_count": 6,
   "id": "103e9ed9-b752-4689-820e-f2691182306f",
   "metadata": {},
   "outputs": [
    {
     "data": {
      "text/plain": [
       "'02-08-singapore.txt'"
      ]
     },
     "execution_count": 6,
     "metadata": {},
     "output_type": "execute_result"
    }
   ],
   "source": [
    "rename_my_file('feb-08_singapore.txt')"
   ]
  },
  {
   "cell_type": "markdown",
   "id": "f388bd5e-bf76-41dd-b545-6705ba33db69",
   "metadata": {},
   "source": [
    "# Task 3"
   ]
  },
  {
   "cell_type": "code",
   "execution_count": 7,
   "id": "566e3e05-d952-4e6f-b978-cc39f411908c",
   "metadata": {},
   "outputs": [],
   "source": [
    "list = ['oct-08_singapore.txt', 'jul-10_cairo.txt', 'may-15_dhaka.txt',\n",
    " 'may-13_cairo.txt', 'oct-21_cairo.txt', 'jan-10_singapore.txt',\n",
    " 'jun-20_tokyo.txt', 'aug-06_jakarta.txt', 'dec-21_karachi.txt',\n",
    " 'jan-01_tokyo.txt']"
   ]
  },
  {
   "cell_type": "code",
   "execution_count": 8,
   "id": "1ebbc53c-f2fe-4948-96e0-57bc54d2bd09",
   "metadata": {},
   "outputs": [
    {
     "name": "stdout",
     "output_type": "stream",
     "text": [
      "oct-08_singapore.txt ----> 10-08-singapore.txt\n",
      "jul-10_cairo.txt ----> 07-10-cairo.txt\n",
      "may-15_dhaka.txt ----> 05-15-dhaka.txt\n",
      "may-13_cairo.txt ----> 05-13-cairo.txt\n",
      "oct-21_cairo.txt ----> 10-21-cairo.txt\n",
      "jan-10_singapore.txt ----> 01-10-singapore.txt\n",
      "jun-20_tokyo.txt ----> 06-20-tokyo.txt\n",
      "aug-06_jakarta.txt ----> 08-06-jakarta.txt\n",
      "dec-21_karachi.txt ----> 12-21-karachi.txt\n",
      "jan-01_tokyo.txt ----> 01-01-tokyo.txt\n"
     ]
    }
   ],
   "source": [
    "for name in list:\n",
    "    new_name=rename_my_file(name)\n",
    "    print(f\"{name} ----> {new_name}\")"
   ]
  },
  {
   "cell_type": "markdown",
   "id": "5a2a70b4-1ed0-4ad4-80d7-8771af928764",
   "metadata": {},
   "source": [
    "# Task 4"
   ]
  },
  {
   "cell_type": "code",
   "execution_count": 3,
   "id": "27e269a7-ae18-489a-8518-51cfd7cd9520",
   "metadata": {},
   "outputs": [],
   "source": [
    "import os, glob, shutil"
   ]
  },
  {
   "cell_type": "code",
   "execution_count": 10,
   "id": "84539215-4936-4bf7-9961-d05562c6544f",
   "metadata": {},
   "outputs": [
    {
     "data": {
      "text/plain": [
       "['Cairo',\n",
       " 'Dhaka',\n",
       " 'files,_folders_&_os_(need)_exercises.ipynb',\n",
       " 'Jakarta',\n",
       " 'Karachi',\n",
       " 'Manila',\n",
       " 'Melbourne',\n",
       " 'os-collaboration-exercise-data',\n",
       " 'Osaka',\n",
       " 'Shanghai',\n",
       " 'Singapore',\n",
       " 'Tokyo']"
      ]
     },
     "execution_count": 10,
     "metadata": {},
     "output_type": "execute_result"
    }
   ],
   "source": [
    "glob.glob('*')"
   ]
  },
  {
   "cell_type": "code",
   "execution_count": 32,
   "id": "844caea8-4333-48ab-8ed2-f6677917ae7a",
   "metadata": {},
   "outputs": [],
   "source": [
    "folder = 'os-collaboration-exercise-data'\n",
    "search_path=os.path.join(folder,'*.txt') #joining the folder and txt, helps add the \\\\ for me\n",
    "all_files = glob.glob(search_path,recursive=True) #search files that match the above pattern "
   ]
  },
  {
   "cell_type": "code",
   "execution_count": 45,
   "id": "4de688de-a5bf-4e10-b120-af0ad2f64a23",
   "metadata": {},
   "outputs": [],
   "source": [
    "#all_files[:3] testing to see if it works"
   ]
  },
  {
   "cell_type": "code",
   "execution_count": 33,
   "id": "b8729f48-e823-493b-8a03-ab3b99013cae",
   "metadata": {},
   "outputs": [],
   "source": [
    "txt_files=[file.split(os.path.sep)[-1] for file in all_files]"
   ]
  },
  {
   "cell_type": "code",
   "execution_count": 43,
   "id": "0f8b4574-cfc1-4c53-a463-1f2119ffcf5f",
   "metadata": {},
   "outputs": [
    {
     "data": {
      "text/plain": [
       "['apr-01_melbourne.txt', 'apr-01_shanghai.txt', 'apr-01_singapore.txt']"
      ]
     },
     "execution_count": 43,
     "metadata": {},
     "output_type": "execute_result"
    }
   ],
   "source": [
    "txt_files[:3] #testing to see if it works"
   ]
  },
  {
   "cell_type": "code",
   "execution_count": 39,
   "id": "9ef30c2c-021e-4712-8840-b3c8da11b54f",
   "metadata": {},
   "outputs": [],
   "source": [
    "for name in txt_files:\n",
    "    new_name=rename_my_file(name)\n",
    "\n",
    "    old_path=os.path.join(folder,name)\n",
    "    new_path=os.path.join(folder,new_name)\n",
    "    #print(f\" {old_path} ----> {new_path}\")\n",
    "    os.rename(old_path ,new_path)"
   ]
  },
  {
   "cell_type": "markdown",
   "id": "f71dd655-62c3-4961-a5e3-3072f7df09ee",
   "metadata": {},
   "source": [
    "### old working"
   ]
  },
  {
   "cell_type": "code",
   "execution_count": 42,
   "id": "57d885aa-38f4-471c-a251-27a8f9f7406d",
   "metadata": {},
   "outputs": [],
   "source": [
    "all_files = glob.glob('os-collaboration-exercise-data\\\\/*.txt',recursive=True)"
   ]
  },
  {
   "cell_type": "code",
   "execution_count": 41,
   "id": "20c3abda-a218-4215-a45b-03926f07a134",
   "metadata": {},
   "outputs": [],
   "source": [
    "for name in txt_files:\n",
    "    file_name=os.path.splitext(name)[0]\n",
    "    new_name=rename_my_file(name)\n",
    "    file_new_name=os.path.splitext(new_name)[0]\n",
    "    #print (f\"{file_name} ----> {file_new_name}\")"
   ]
  },
  {
   "cell_type": "code",
   "execution_count": 40,
   "id": "1289f294-156e-4c38-9b23-d93f492bbef2",
   "metadata": {},
   "outputs": [
    {
     "data": {
      "text/plain": [
       "False"
      ]
     },
     "execution_count": 40,
     "metadata": {},
     "output_type": "execute_result"
    }
   ],
   "source": [
    "os.path.exists('.\\\\os-collaboration-exercise-data\\\\apr-01_melbourne.txt')"
   ]
  },
  {
   "cell_type": "markdown",
   "id": "f0f3c1db-97b4-4900-ae14-f6a1c09bb0c6",
   "metadata": {},
   "source": [
    "# Task 5"
   ]
  },
  {
   "cell_type": "code",
   "execution_count": 1,
   "id": "81471dac-1417-4455-b2dc-2867cad4753b",
   "metadata": {},
   "outputs": [],
   "source": [
    "folder_list = ['Cairo', 'Dhaka', 'Jakarta', 'Karachi', 'Manila',\n",
    " 'Melbourne', 'Osaka', 'Shanghai', 'Singapore', 'Tokyo']"
   ]
  },
  {
   "cell_type": "code",
   "execution_count": 4,
   "id": "4ea0aeba-e570-4d13-8be0-a95d5d0d3da4",
   "metadata": {},
   "outputs": [
    {
     "ename": "FileExistsError",
     "evalue": "[WinError 183] Cannot create a file when that file already exists: 'Cairo'",
     "output_type": "error",
     "traceback": [
      "\u001b[1;31m---------------------------------------------------------------------------\u001b[0m",
      "\u001b[1;31mFileExistsError\u001b[0m                           Traceback (most recent call last)",
      "Cell \u001b[1;32mIn[4], line 2\u001b[0m\n\u001b[0;32m      1\u001b[0m \u001b[38;5;28;01mfor\u001b[39;00m city \u001b[38;5;129;01min\u001b[39;00m folder_list:\n\u001b[1;32m----> 2\u001b[0m     \u001b[43mos\u001b[49m\u001b[38;5;241;43m.\u001b[39;49m\u001b[43mmkdir\u001b[49m\u001b[43m(\u001b[49m\u001b[43mcity\u001b[49m\u001b[43m)\u001b[49m\n",
      "\u001b[1;31mFileExistsError\u001b[0m: [WinError 183] Cannot create a file when that file already exists: 'Cairo'"
     ]
    }
   ],
   "source": [
    "for city in folder_list:\n",
    "    os.mkdir(city)"
   ]
  },
  {
   "cell_type": "markdown",
   "id": "11540bb8-8043-405b-b98a-563877abef48",
   "metadata": {},
   "source": [
    "# Task 6"
   ]
  },
  {
   "cell_type": "code",
   "execution_count": 62,
   "id": "606e4efd-e925-41fb-922d-fbc5f6006d6e",
   "metadata": {},
   "outputs": [],
   "source": [
    "folder = 'os-collaboration-exercise-data'\n",
    "search_path=os.path.join(folder,'*Cairo*') #joining the folder and file, helps add the \\\\ for me\n",
    "cairo_files = glob.glob(search_path,recursive=True) #search files that match the above pattern "
   ]
  },
  {
   "cell_type": "code",
   "execution_count": 84,
   "id": "39f6d83a-c5d5-47cf-b490-c1a7fb1c8b87",
   "metadata": {},
   "outputs": [
    {
     "data": {
      "text/plain": [
       "['os-collaboration-exercise-data\\\\01-02-cairo.txt',\n",
       " 'os-collaboration-exercise-data\\\\01-03-cairo.txt',\n",
       " 'os-collaboration-exercise-data\\\\01-04-cairo.txt',\n",
       " 'os-collaboration-exercise-data\\\\01-05-cairo.txt',\n",
       " 'os-collaboration-exercise-data\\\\01-07-cairo.txt']"
      ]
     },
     "execution_count": 84,
     "metadata": {},
     "output_type": "execute_result"
    }
   ],
   "source": [
    "cairo_files[:5]"
   ]
  },
  {
   "cell_type": "code",
   "execution_count": 60,
   "id": "a9b93651-42c7-436b-8354-c357d593ea15",
   "metadata": {},
   "outputs": [],
   "source": [
    "for data_cairo in cairo_files:\n",
    "    shutil.copy(data_cairo, 'Cairo')\n",
    "    #print(f'Copied file to {path_to_destination}')"
   ]
  },
  {
   "cell_type": "code",
   "execution_count": 75,
   "id": "167ae191-d0ce-4e3c-a635-3d1067a08cd8",
   "metadata": {},
   "outputs": [],
   "source": [
    "#for data_cairo in cairo_files:\n",
    "    #path_to_destination = os.path.join('Cairo') this is if the file 'Cairo' is within another file\n",
    "    #shutil.copy(data_cairo, path_to_destination) \n",
    "    #print(f'Copied file to {path_to_destination}')"
   ]
  },
  {
   "cell_type": "markdown",
   "id": "7cee3891-8210-43b7-82df-b79d79317832",
   "metadata": {},
   "source": [
    "# Task 7"
   ]
  },
  {
   "cell_type": "code",
   "execution_count": 3,
   "id": "e5143966-bde3-4b49-8d8b-7ed9bd802bbf",
   "metadata": {},
   "outputs": [],
   "source": [
    "folder_list = ['Cairo', 'Dhaka', 'Jakarta', 'Karachi', 'Manila',\n",
    " 'Melbourne', 'Osaka', 'Shanghai', 'Singapore', 'Tokyo']"
   ]
  },
  {
   "cell_type": "code",
   "execution_count": 21,
   "id": "3979d46f-f2d0-427b-8308-c0caf3936f40",
   "metadata": {},
   "outputs": [],
   "source": [
    "folder = 'os-collaboration-exercise-data'\n",
    "\n",
    "for capital_cities in folder_list:\n",
    "    string = f'*{capital_cities}*'\n",
    "    search_path=os.path.join(folder,string) #joining the folder and file, helps add the \\\\ for me\n",
    "    city_files = glob.glob(search_path,recursive=True) #search files that match the above pattern \n",
    "    path= capital_cities\n",
    "    for file in city_files:\n",
    "        shutil.copy(file, path)"
   ]
  }
 ],
 "metadata": {
  "kernelspec": {
   "display_name": "Python 3 (ipykernel)",
   "language": "python",
   "name": "python3"
  },
  "language_info": {
   "codemirror_mode": {
    "name": "ipython",
    "version": 3
   },
   "file_extension": ".py",
   "mimetype": "text/x-python",
   "name": "python",
   "nbconvert_exporter": "python",
   "pygments_lexer": "ipython3",
   "version": "3.12.3"
  },
  "toc": {
   "base_numbering": 1,
   "nav_menu": {},
   "number_sections": true,
   "sideBar": true,
   "skip_h1_title": false,
   "title_cell": "Table of Contents",
   "title_sidebar": "Contents",
   "toc_cell": false,
   "toc_position": {},
   "toc_section_display": true,
   "toc_window_display": false
  },
  "vscode": {
   "interpreter": {
    "hash": "31f2aee4e71d21fbe5cf8b01ff0e069b9275f58929596ceb00d14d90e3e16cd6"
   }
  }
 },
 "nbformat": 4,
 "nbformat_minor": 5
}
