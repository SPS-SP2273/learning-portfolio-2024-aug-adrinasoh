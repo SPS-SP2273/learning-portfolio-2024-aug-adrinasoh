{
 "cells": [
  {
   "attachments": {},
   "cell_type": "markdown",
   "id": "123456",
   "metadata": {},
   "source": [
    "<div style=\"text-align:left;font-size:2em\"><span style=\"font-weight:bolder;font-size:1.25em\">SP2273 | Learning Portfolio</span><br><br><span style=\"font-weight:bold;color:darkred\">Loops (Need) Exercises</span></div>"
   ]
  },
  {
   "cell_type": "markdown",
   "id": "9201a030-fff6-4827-b949-09e9546b0d9b",
   "metadata": {},
   "source": [
    "## Exercise 1"
   ]
  },
  {
   "cell_type": "code",
   "execution_count": 2,
   "id": "ebe41417-cb70-471c-bc50-ebbe350877b1",
   "metadata": {},
   "outputs": [],
   "source": [
    "temperatures_celsius = [\n",
    "    0, 5, 10, 15, 20, 25,\n",
    "    30, 35, 40, 45, 50\n",
    "]"
   ]
  },
  {
   "cell_type": "code",
   "execution_count": 4,
   "id": "799b45cd-5ad2-4ae6-81c2-fc75197b11ba",
   "metadata": {},
   "outputs": [
    {
     "name": "stdout",
     "output_type": "stream",
     "text": [
      "0, 32\n",
      "5, 41\n",
      "10, 50\n",
      "15, 59\n",
      "20, 68\n",
      "25, 77\n",
      "30, 86\n",
      "35, 95\n",
      "40, 104\n",
      "45, 113\n",
      "50, 122\n"
     ]
    }
   ],
   "source": [
    "for celsius in temperatures_celsius:\n",
    "    fahrenheit = int(celsius*(9/5)+32)\n",
    "    print(f\"{celsius}, {fahrenheit}\")"
   ]
  },
  {
   "cell_type": "markdown",
   "id": "d463b246-48b0-4690-aeed-65ebfb4df010",
   "metadata": {},
   "source": [
    "## Exercise 2"
   ]
  },
  {
   "cell_type": "markdown",
   "id": "3cfaf361-0c77-45fd-bdf0-6a78f64c8a38",
   "metadata": {},
   "source": [
    "### Example"
   ]
  },
  {
   "cell_type": "code",
   "execution_count": 42,
   "id": "733bbe7f-aa74-4365-a746-7dcfee6a18c2",
   "metadata": {},
   "outputs": [
    {
     "name": "stdout",
     "output_type": "stream",
     "text": [
      "A1\tA2\tA3\t\n",
      "\n",
      "B1\tB2\tB3\t\n",
      "\n",
      "C1\tC2\tC3\t\n",
      "\n"
     ]
    }
   ],
   "source": [
    "for letter in ['A', 'B', 'C']:\n",
    "    for number in [1, 2, 3]:\n",
    "        print(f'{letter}{number}', end='\\t') # Print letter and number combined, separated by a tab\n",
    "    print('\\n') # Print a newline after each set of combinations for a letter"
   ]
  },
  {
   "cell_type": "markdown",
   "id": "76253a2a-49ad-448c-b195-1a4b222a1ae5",
   "metadata": {},
   "source": [
    "Outer Loop: for letter in ['A', 'B', 'C'], Inner Loop: for number in [1, 2, 3]\n",
    "\n",
    "The end='\\t' argument specifies that instead of adding a newline after printing (which is the default behavior), it will add a tab (\\t). This makes the output for each combination appear on the same line, separated by tabs.\n",
    "\n",
    "After the inner loop completes (i.e., after all numbers have been printed for a particular letter), a newline ('\\n') is printed. This moves the cursor to the next line, ensuring that the combinations for each letter are printed on a new line."
   ]
  },
  {
   "cell_type": "code",
   "execution_count": 8,
   "id": "9270beaf-1f04-4112-a610-0409da521fc6",
   "metadata": {},
   "outputs": [
    {
     "name": "stdout",
     "output_type": "stream",
     "text": [
      "A1\tB1\tC1\t\n",
      "\n",
      "A2\tB2\tC2\t\n",
      "\n",
      "A3\tB3\tC3\t\n",
      "\n"
     ]
    }
   ],
   "source": [
    "for number in [1, 2, 3]: \n",
    "    for letter in ['A', 'B', 'C']:\n",
    "        print(f'{letter}{number}', end='\\t') # Print letter and number combined, separated by a tab\n",
    "    print('\\n') # Print a newline after each set of combinations for a number"
   ]
  },
  {
   "cell_type": "code",
   "execution_count": 43,
   "id": "d9b3df2a-f40b-4310-9b86-c41cb06b66b3",
   "metadata": {},
   "outputs": [
    {
     "name": "stdout",
     "output_type": "stream",
     "text": [
      "A1\tA2\tA3\tB1\tB2\tB3\tC1\tC2\tC3\t\n",
      "\n"
     ]
    }
   ],
   "source": [
    "for letter in ['A', 'B', 'C']:\n",
    "    for number in [1, 2, 3]:\n",
    "        print(f'{letter}{number}', end='\\t')\n",
    "print('\\n')"
   ]
  },
  {
   "cell_type": "code",
   "execution_count": 45,
   "id": "9a6635d3-4872-4675-aaf7-cb436557f47b",
   "metadata": {},
   "outputs": [
    {
     "name": "stdout",
     "output_type": "stream",
     "text": [
      "A1\tA2\tA3\t\n",
      "\n",
      "B1\tB2\tB3\t\n",
      "\n",
      "C1\tC2\tC3\t\n",
      "\n"
     ]
    }
   ],
   "source": [
    "for letter in ['A', 'B', 'C']:\n",
    "    for number in [1, 2, 3]:\n",
    "        print(f'{letter}{number}', end='\\t')\n",
    "    print('\\n')"
   ]
  },
  {
   "cell_type": "code",
   "execution_count": 44,
   "id": "a962d013-079a-43a5-95f5-814f0fe57d55",
   "metadata": {},
   "outputs": [
    {
     "name": "stdout",
     "output_type": "stream",
     "text": [
      "A1\t\n",
      "\n",
      "A2\t\n",
      "\n",
      "A3\t\n",
      "\n",
      "B1\t\n",
      "\n",
      "B2\t\n",
      "\n",
      "B3\t\n",
      "\n",
      "C1\t\n",
      "\n",
      "C2\t\n",
      "\n",
      "C3\t\n",
      "\n"
     ]
    }
   ],
   "source": [
    "for letter in ['A', 'B', 'C']:\n",
    "    for number in [1, 2, 3]:\n",
    "        print(f'{letter}{number}', end='\\t')\n",
    "        print('\\n')"
   ]
  },
  {
   "cell_type": "markdown",
   "id": "b390ba8f-a34c-4c29-a42e-9e997d432b17",
   "metadata": {},
   "source": [
    "### Task 1"
   ]
  },
  {
   "cell_type": "code",
   "execution_count": 55,
   "id": "b4d80ee6-ef5a-433c-9216-905a1612e2da",
   "metadata": {},
   "outputs": [
    {
     "name": "stdout",
     "output_type": "stream",
     "text": [
      "1\t2\t3\t4\t5\t\n",
      "\n",
      "2\t4\t6\t8\t10\t\n",
      "\n",
      "3\t6\t9\t12\t15\t\n",
      "\n",
      "4\t8\t12\t16\t20\t\n",
      "\n",
      "5\t10\t15\t20\t25\t\n",
      "\n"
     ]
    }
   ],
   "source": [
    "for i in range(1, 6): \n",
    "    for number in range(1,6):\n",
    "        print (f'{i*number}',end='\\t')\n",
    "    print('\\n')"
   ]
  },
  {
   "cell_type": "code",
   "execution_count": 56,
   "id": "fbc5ce13-d042-45bf-acc6-e0a4aeafb797",
   "metadata": {},
   "outputs": [
    {
     "name": "stdout",
     "output_type": "stream",
     "text": [
      "1:1\t2\t3\t4\t5\t\n",
      "\n",
      "2:2\t4\t6\t8\t10\t\n",
      "\n",
      "3:3\t6\t9\t12\t15\t\n",
      "\n",
      "4:4\t8\t12\t16\t20\t\n",
      "\n",
      "5:5\t10\t15\t20\t25\t\n",
      "\n"
     ]
    }
   ],
   "source": [
    "for i in range(1, 6): \n",
    "    print(f'{i}:', end='') #This prints the row label (e.g., 1:) and stays on the same line instead of moving to a new line\n",
    "    for number in range(1,6):\n",
    "        print (f'{i*number}',end='\\t')\n",
    "    print('\\n')"
   ]
  },
  {
   "cell_type": "markdown",
   "id": "bf641ca7-dc38-471c-9090-ea8ff31021f2",
   "metadata": {},
   "source": [
    "## Exercise 3"
   ]
  },
  {
   "cell_type": "markdown",
   "id": "cf0b85e7-ae37-4b29-965d-cbb0002e2bcd",
   "metadata": {},
   "source": [
    "### Example"
   ]
  },
  {
   "cell_type": "code",
   "execution_count": 59,
   "id": "0d092094-802c-43b4-a2ab-8a308adc6fb4",
   "metadata": {},
   "outputs": [],
   "source": [
    "import numpy as np"
   ]
  },
  {
   "cell_type": "code",
   "execution_count": 74,
   "id": "1441721a-6737-43c4-a19e-b5a8d43dad95",
   "metadata": {},
   "outputs": [
    {
     "data": {
      "text/plain": [
       "array([0.96867296, 0.14646912, 0.74572232, 0.09258452, 0.79981507,\n",
       "       0.10929812, 0.43477164, 0.76286562, 0.7445104 , 0.15935108])"
      ]
     },
     "execution_count": 74,
     "metadata": {},
     "output_type": "execute_result"
    }
   ],
   "source": [
    "np.random.rand(10)"
   ]
  },
  {
   "cell_type": "code",
   "execution_count": 76,
   "id": "ed98c4d3-ced5-486f-987f-cdd41cba3a8b",
   "metadata": {},
   "outputs": [
    {
     "name": "stdout",
     "output_type": "stream",
     "text": [
      "[0.83592264 0.72149854 0.09978203 0.2705256  0.60241273 0.75789582\n",
      " 0.11526615 0.02878471 0.34404761 0.82651516]\n",
      "4\n"
     ]
    }
   ],
   "source": [
    "random = np.random.rand(10)\n",
    "print(random)\n",
    "heads = np.sum(np.random.rand(10)>0.5) #np.sum() treats True as 1 and False as 0, so it effectively counts the number of True values in the array.\n",
    "print(heads)"
   ]
  },
  {
   "cell_type": "markdown",
   "id": "0ed8fc48-39d2-4796-9425-5237c888adc3",
   "metadata": {},
   "source": [
    "### Task 1"
   ]
  },
  {
   "cell_type": "markdown",
   "id": "f943f5cf-c767-487a-b29c-6590787ef7db",
   "metadata": {},
   "source": [
    "array < 0.5 = tails  \n",
    "array > 0.5 = heads"
   ]
  },
  {
   "cell_type": "code",
   "execution_count": 78,
   "id": "cc373274-2375-483c-b8eb-a45290dd81c8",
   "metadata": {},
   "outputs": [
    {
     "name": "stdout",
     "output_type": "stream",
     "text": [
      "Experiment 1: No. of Heads = 5\n",
      "Experiment 2: No. of Heads = 7\n",
      "Experiment 3: No. of Heads = 4\n",
      "Experiment 4: No. of Heads = 5\n",
      "Experiment 5: No. of Heads = 2\n",
      "Experiment 6: No. of Heads = 3\n",
      "Experiment 7: No. of Heads = 3\n",
      "Experiment 8: No. of Heads = 8\n",
      "Experiment 9: No. of Heads = 3\n",
      "Experiment 10: No. of Heads = 6\n"
     ]
    }
   ],
   "source": [
    "for experiment in range(1, 11):  # Experiment numbers from 1 to 10\n",
    "    random_values = np.random.rand(10)  # Generate 10 random values\n",
    "    heads = np.sum(random_values > 0.5)  # Count how many values are true (greater than 0.5)\n",
    "    \n",
    "    print(f'Experiment {experiment}: No. of Heads = {heads}')"
   ]
  }
 ],
 "metadata": {
  "kernelspec": {
   "display_name": "Python 3 (ipykernel)",
   "language": "python",
   "name": "python3"
  },
  "language_info": {
   "codemirror_mode": {
    "name": "ipython",
    "version": 3
   },
   "file_extension": ".py",
   "mimetype": "text/x-python",
   "name": "python",
   "nbconvert_exporter": "python",
   "pygments_lexer": "ipython3",
   "version": "3.12.3"
  },
  "toc": {
   "base_numbering": 1,
   "nav_menu": {},
   "number_sections": true,
   "sideBar": true,
   "skip_h1_title": false,
   "title_cell": "Table of Contents",
   "title_sidebar": "Contents",
   "toc_cell": false,
   "toc_position": {},
   "toc_section_display": true,
   "toc_window_display": false
  },
  "vscode": {
   "interpreter": {
    "hash": "31f2aee4e71d21fbe5cf8b01ff0e069b9275f58929596ceb00d14d90e3e16cd6"
   }
  }
 },
 "nbformat": 4,
 "nbformat_minor": 5
}
