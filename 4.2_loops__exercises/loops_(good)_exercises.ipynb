{
 "cells": [
  {
   "attachments": {},
   "cell_type": "markdown",
   "id": "123456",
   "metadata": {},
   "source": [
    "<div style=\"text-align:left;font-size:2em\"><span style=\"font-weight:bolder;font-size:1.25em\">SP2273 | Learning Portfolio</span><br><br><span style=\"font-weight:bold;color:darkred\">Loops (Good) Exercises</span></div>"
   ]
  },
  {
   "cell_type": "markdown",
   "id": "84f4a2d4-e334-4694-90d7-c30fa7a08e4f",
   "metadata": {},
   "source": [
    "## Exercise 1"
   ]
  },
  {
   "cell_type": "code",
   "execution_count": 1,
   "id": "c1d0656a-34d4-4bc1-ba0b-b4d63780f797",
   "metadata": {},
   "outputs": [
    {
     "name": "stdout",
     "output_type": "stream",
     "text": [
      "1\n",
      "9\n",
      "25\n",
      "49\n",
      "81\n"
     ]
    }
   ],
   "source": [
    "for number in range(10):\n",
    "    if number % 2 == 0:\n",
    "        continue\n",
    "    print(number**2)"
   ]
  },
  {
   "cell_type": "markdown",
   "id": "29db5893-8638-4347-86c2-edac21568078",
   "metadata": {},
   "source": [
    "## Exercise 2"
   ]
  },
  {
   "cell_type": "code",
   "execution_count": 4,
   "id": "427dbc78-8a22-4c6c-85a7-a9a7ceb82794",
   "metadata": {},
   "outputs": [
    {
     "data": {
      "text/plain": [
       "[1, 9, 25, 49, 81]"
      ]
     },
     "execution_count": 4,
     "metadata": {},
     "output_type": "execute_result"
    }
   ],
   "source": [
    "[number**2 for number in range(10) if number % 2 ==1]"
   ]
  },
  {
   "cell_type": "markdown",
   "id": "e9bca39a-47ce-42a3-a470-5f23783eeb88",
   "metadata": {},
   "source": [
    "## Exercise 3"
   ]
  },
  {
   "cell_type": "code",
   "execution_count": 3,
   "id": "799ddd2c-28b9-445e-bbad-7e6ba206fec1",
   "metadata": {},
   "outputs": [
    {
     "name": "stdout",
     "output_type": "stream",
     "text": [
      "1.93 μs ± 16.2 ns per loop (mean ± std. dev. of 7 runs, 1,000,000 loops each)\n"
     ]
    }
   ],
   "source": [
    "%%timeit\n",
    "for number in range(10):\n",
    "    if number % 2 == 0:\n",
    "        continue"
   ]
  },
  {
   "cell_type": "code",
   "execution_count": 5,
   "id": "f297193a-0900-4d79-97b0-b08a922c6cdf",
   "metadata": {},
   "outputs": [
    {
     "name": "stdout",
     "output_type": "stream",
     "text": [
      "2.77 μs ± 124 ns per loop (mean ± std. dev. of 7 runs, 100,000 loops each)\n"
     ]
    }
   ],
   "source": [
    "%%timeit\n",
    "[number**2 for number in range(10) if number % 2 ==1]"
   ]
  },
  {
   "cell_type": "markdown",
   "id": "cf57c336-4b19-459e-a62a-11628833d5eb",
   "metadata": {},
   "source": [
    "The first solution is faster, meaning that perhaps the first solution is more efficient"
   ]
  },
  {
   "cell_type": "markdown",
   "id": "cc4904d5-3b68-4fc5-a9b8-c5a07e7fc77a",
   "metadata": {},
   "source": [
    "## Exercise 4"
   ]
  },
  {
   "cell_type": "code",
   "execution_count": 6,
   "id": "a72e7ae7-0510-4d1c-812b-b52e7ea76540",
   "metadata": {},
   "outputs": [
    {
     "name": "stdout",
     "output_type": "stream",
     "text": [
      "1:95.0\n",
      "2:90.25\n",
      "3:85.7375\n",
      "4:81.45062499999999\n",
      "5:77.37809374999999\n",
      "6:73.50918906249998\n",
      "7:69.83372960937498\n",
      "8:66.34204312890623\n",
      "9:63.02494097246091\n",
      "10:59.87369392383786\n",
      "11:56.880009227645964\n",
      "12:54.03600876626366\n",
      "13:51.33420832795048\n",
      "14:48.76749791155295\n"
     ]
    }
   ],
   "source": [
    "units = 100\n",
    "years = 0\n",
    "\n",
    "while units > 50:\n",
    "    units *= 0.95\n",
    "    years += 1\n",
    "    if units == 50:\n",
    "        break\n",
    "    print(f'{years}:{units}')"
   ]
  },
  {
   "cell_type": "markdown",
   "id": "2d354f21-0235-4e58-ab35-49f94f68a86b",
   "metadata": {},
   "source": [
    "The sample will reduce to half its original amount between year 13-14."
   ]
  },
  {
   "cell_type": "markdown",
   "id": "8df067ee-fef4-4754-afc6-5c33048a533d",
   "metadata": {},
   "source": [
    "## Exercise 5"
   ]
  },
  {
   "cell_type": "code",
   "execution_count": 7,
   "id": "b411143a-a292-4569-a1ea-b7deaa27cc63",
   "metadata": {},
   "outputs": [],
   "source": [
    "co2_data = [\n",
    "    (2000, 369.55), (2001, 371.14), (2002, 373.28), \n",
    "    (2003, 375.80), (2004, 377.52), (2005, 379.80), \n",
    "    (2006, 381.90), (2007, 383.79), (2008, 385.60), \n",
    "    (2009, 387.43), (2010, 389.90), (2011, 391.65), \n",
    "    (2012, 393.85), (2013, 396.52), (2014, 398.65),\n",
    "    (2015, 400.83), (2016, 404.24), (2017, 406.55), \n",
    "    (2018, 408.52), (2019, 411.44), (2020, 414.24)\n",
    "]"
   ]
  },
  {
   "cell_type": "code",
   "execution_count": 31,
   "id": "92ee9882-6d62-4f2c-aec1-ac2c683ba0e7",
   "metadata": {},
   "outputs": [
    {
     "name": "stdout",
     "output_type": "stream",
     "text": [
      "2016 3.410000000000025\n"
     ]
    }
   ],
   "source": [
    "for i in range(1, len(co2_data)):\n",
    "    year, co2_level = co2_data[i]\n",
    "    previous_year, previous_co2_level = co2_data[i-1]\n",
    "    change = co2_level - previous_co2_level\n",
    "    \n",
    "    if change >= 3.0:\n",
    "        print(year , change)"
   ]
  },
  {
   "cell_type": "markdown",
   "id": "a68e5a5c-9a41-4a59-8b76-e9f2932030bb",
   "metadata": {},
   "source": [
    "Therefore, only in year 2016 was there an increase of CO<sub>2</sub> of 3 ppm or more compared to the previous year,  \n",
    "with an increase of around 3.41ppm"
   ]
  }
 ],
 "metadata": {
  "kernelspec": {
   "display_name": "Python 3 (ipykernel)",
   "language": "python",
   "name": "python3"
  },
  "language_info": {
   "codemirror_mode": {
    "name": "ipython",
    "version": 3
   },
   "file_extension": ".py",
   "mimetype": "text/x-python",
   "name": "python",
   "nbconvert_exporter": "python",
   "pygments_lexer": "ipython3",
   "version": "3.12.3"
  },
  "toc": {
   "base_numbering": 1,
   "nav_menu": {},
   "number_sections": true,
   "sideBar": true,
   "skip_h1_title": false,
   "title_cell": "Table of Contents",
   "title_sidebar": "Contents",
   "toc_cell": false,
   "toc_position": {},
   "toc_section_display": true,
   "toc_window_display": false
  },
  "vscode": {
   "interpreter": {
    "hash": "31f2aee4e71d21fbe5cf8b01ff0e069b9275f58929596ceb00d14d90e3e16cd6"
   }
  }
 },
 "nbformat": 4,
 "nbformat_minor": 5
}
