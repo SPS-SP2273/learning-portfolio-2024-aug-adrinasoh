{
 "cells": [
  {
   "cell_type": "code",
   "execution_count": 2,
   "id": "b1899481-451a-4de4-89e3-4afafd178b73",
   "metadata": {},
   "outputs": [
    {
     "name": "stdout",
     "output_type": "stream",
     "text": [
      "Hello World!\n"
     ]
    }
   ],
   "source": [
    "print('Hello World!')"
   ]
  },
  {
   "cell_type": "markdown",
   "id": "58458ea1-2a68-4c66-a51e-8f5b8d546f7d",
   "metadata": {},
   "source": [
    "The ships hung in the sky in much the same way that bricks don’t."
   ]
  },
  {
   "cell_type": "markdown",
   "id": "4d6852cf-eded-4f06-bbe2-98b024dc1094",
   "metadata": {},
   "source": [
    "The ships *hung in the sky* in much the same way that **bricks don’t.**<sup>1</sup><sub>QUOTE</sub>"
   ]
  },
  {
   "cell_type": "markdown",
   "id": "4dafad66-f26e-4cc6-9d08-f73af6754244",
   "metadata": {},
   "source": [
    "# The largest heading\n",
    "\n",
    "## The second-largest heading\n",
    "\n",
    "### The third-largest heading\n",
    "\n",
    "#### The smallest heading\n",
    "\n",
    "```python\n",
    "print('Hello World')\n",
    "```"
   ]
  },
  {
   "cell_type": "markdown",
   "id": "08ec4be7-b748-404d-83a6-549c7859bef8",
   "metadata": {},
   "source": [
    "[SP2273 Website](https://sps.nus.edu.sg/sp2273)"
   ]
  },
  {
   "cell_type": "markdown",
   "id": "8fceeb22-64f9-4750-88ec-364bbc28b80d",
   "metadata": {},
   "source": [
    "[NUS](https://nus.edu.sg/images/default-source/base/logo.png)"
   ]
  },
  {
   "cell_type": "markdown",
   "id": "2afff375-3e6f-4a5e-b4de-85a694ccba50",
   "metadata": {},
   "source": [
    "![NUS](https://nus.edu.sg/images/default-source/base/logo.png)"
   ]
  },
  {
   "cell_type": "markdown",
   "id": "cc65e5f7-2494-4053-8502-34ea1ad3d3c5",
   "metadata": {},
   "source": [
    "$$\n",
    "x = \\dfrac{-b \\pm \\sqrt{b^2-4ac}}{2a}\n",
    "$$"
   ]
  },
  {
   "cell_type": "code",
   "execution_count": 12,
   "id": "114e73a3-5443-4dee-9b41-7a4162c5ca75",
   "metadata": {},
   "outputs": [
    {
     "name": "stdout",
     "output_type": "stream",
     "text": [
      "C:\\Users\\adrin\\OneDrive\\Documents\\GitHub\\learning-portfolio-2024-aug-adrinasoh\\1.1_using_jupyter\n"
     ]
    }
   ],
   "source": [
    "!cd"
   ]
  },
  {
   "cell_type": "code",
   "execution_count": 13,
   "id": "ea50f9ab-baf6-4dcd-a0ea-19528859f045",
   "metadata": {},
   "outputs": [
    {
     "name": "stdout",
     "output_type": "stream",
     "text": [
      " Volume in drive C is Windows\n",
      " Volume Serial Number is E08A-0B3C\n",
      "\n",
      " Directory of C:\\Users\\adrin\\OneDrive\\Documents\\GitHub\\learning-portfolio-2024-aug-adrinasoh\\1.1_using_jupyter\n",
      "\n",
      "15/08/2024  09:15 am    <DIR>          .\n",
      "15/08/2024  09:15 am    <DIR>          ..\n",
      "15/08/2024  09:07 am    <DIR>          .ipynb_checkpoints\n",
      "15/08/2024  09:05 am             2,485 using-jupyter_need.ipynb\n",
      "15/08/2024  09:15 am             3,659 using_jupyter_(good).ipynb\n",
      "15/08/2024  08:40 am             3,583 using_jupyter_(need).ipynb\n",
      "               3 File(s)          9,727 bytes\n",
      "               3 Dir(s)  398,371,381,248 bytes free\n"
     ]
    }
   ],
   "source": [
    "!dir"
   ]
  },
  {
   "cell_type": "code",
   "execution_count": 14,
   "id": "1cdca34d-0baa-4a05-919e-7eb7492053c7",
   "metadata": {},
   "outputs": [
    {
     "name": "stdout",
     "output_type": "stream",
     "text": [
      "65.8 ns ± 0.737 ns per loop (mean ± std. dev. of 7 runs, 10,000,000 loops each)\n"
     ]
    }
   ],
   "source": [
    "%timeit x=10"
   ]
  },
  {
   "cell_type": "code",
   "execution_count": 15,
   "id": "699659d5-b9f7-49ae-b87b-be91d21f7343",
   "metadata": {},
   "outputs": [
    {
     "name": "stdout",
     "output_type": "stream",
     "text": [
      "107 ns ± 0.875 ns per loop (mean ± std. dev. of 7 runs, 10,000,000 loops each)\n"
     ]
    }
   ],
   "source": [
    "%%timeit \n",
    "x=10\n",
    "y=10\n",
    "z=10"
   ]
  },
  {
   "cell_type": "code",
   "execution_count": null,
   "id": "ae2285b2-d0dd-47c6-9759-09f075ee2412",
   "metadata": {},
   "outputs": [],
   "source": [
    "print('hello')\n",
    "print('world')"
   ]
  }
 ],
 "metadata": {
  "kernelspec": {
   "display_name": "Python 3 (ipykernel)",
   "language": "python",
   "name": "python3"
  },
  "language_info": {
   "codemirror_mode": {
    "name": "ipython",
    "version": 3
   },
   "file_extension": ".py",
   "mimetype": "text/x-python",
   "name": "python",
   "nbconvert_exporter": "python",
   "pygments_lexer": "ipython3",
   "version": "3.12.3"
  }
 },
 "nbformat": 4,
 "nbformat_minor": 5
}
