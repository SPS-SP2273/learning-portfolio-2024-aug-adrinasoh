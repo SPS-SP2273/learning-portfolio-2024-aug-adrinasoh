{
 "cells": [
  {
   "cell_type": "code",
   "execution_count": 2,
   "id": "b1899481-451a-4de4-89e3-4afafd178b73",
   "metadata": {},
   "outputs": [
    {
     "name": "stdout",
     "output_type": "stream",
     "text": [
      "Hello World!\n"
     ]
    }
   ],
   "source": [
    "print('Hello World!')"
   ]
  },
  {
   "cell_type": "markdown",
   "id": "58458ea1-2a68-4c66-a51e-8f5b8d546f7d",
   "metadata": {},
   "source": [
    "The ships hung in the sky in much the same way that bricks don’t."
   ]
  },
  {
   "cell_type": "markdown",
   "id": "4d6852cf-eded-4f06-bbe2-98b024dc1094",
   "metadata": {},
   "source": [
    "The ships *hung in the sky* in much the same way that **bricks don’t.**<sup>1</sup><sub>QUOTE</sub>"
   ]
  },
  {
   "cell_type": "markdown",
   "id": "4dafad66-f26e-4cc6-9d08-f73af6754244",
   "metadata": {},
   "source": [
    "# The largest heading\n",
    "\n",
    "## The second-largest heading\n",
    "\n",
    "### The third-largest heading\n",
    "\n",
    "#### The smallest heading\n",
    "\n",
    "```python\n",
    "print('Hello World')\n",
    "```"
   ]
  },
  {
   "cell_type": "markdown",
   "id": "08ec4be7-b748-404d-83a6-549c7859bef8",
   "metadata": {},
   "source": [
    "[SP2273 Website](https://sps.nus.edu.sg/sp2273)"
   ]
  },
  {
   "cell_type": "markdown",
   "id": "8fceeb22-64f9-4750-88ec-364bbc28b80d",
   "metadata": {},
   "source": [
    "[NUS](https://nus.edu.sg/images/default-source/base/logo.png)"
   ]
  },
  {
   "cell_type": "markdown",
   "id": "2afff375-3e6f-4a5e-b4de-85a694ccba50",
   "metadata": {},
   "source": [
    "![NUS](https://nus.edu.sg/images/default-source/base/logo.png)"
   ]
  },
  {
   "cell_type": "markdown",
   "id": "cc65e5f7-2494-4053-8502-34ea1ad3d3c5",
   "metadata": {},
   "source": [
    "$$\n",
    "x = \\dfrac{-b \\pm \\sqrt{b^2-4ac}}{2a}\n",
    "$$"
   ]
  },
  {
   "cell_type": "code",
   "execution_count": 12,
   "id": "114e73a3-5443-4dee-9b41-7a4162c5ca75",
   "metadata": {},
   "outputs": [
    {
     "name": "stdout",
     "output_type": "stream",
     "text": [
      "C:\\Users\\adrin\\OneDrive\\Documents\\GitHub\\learning-portfolio-2024-aug-adrinasoh\\1.1_using_jupyter\n"
     ]
    }
   ],
   "source": [
    "!cd"
   ]
  },
  {
   "cell_type": "code",
   "execution_count": 13,
   "id": "ea50f9ab-baf6-4dcd-a0ea-19528859f045",
   "metadata": {},
   "outputs": [
    {
     "name": "stdout",
     "output_type": "stream",
     "text": [
      " Volume in drive C is Windows\n",
      " Volume Serial Number is E08A-0B3C\n",
      "\n",
      " Directory of C:\\Users\\adrin\\OneDrive\\Documents\\GitHub\\learning-portfolio-2024-aug-adrinasoh\\1.1_using_jupyter\n",
      "\n",
      "15/08/2024  09:15 am    <DIR>          .\n",
      "15/08/2024  09:15 am    <DIR>          ..\n",
      "15/08/2024  09:07 am    <DIR>          .ipynb_checkpoints\n",
      "15/08/2024  09:05 am             2,485 using-jupyter_need.ipynb\n",
      "15/08/2024  09:15 am             3,659 using_jupyter_(good).ipynb\n",
      "15/08/2024  08:40 am             3,583 using_jupyter_(need).ipynb\n",
      "               3 File(s)          9,727 bytes\n",
      "               3 Dir(s)  398,371,381,248 bytes free\n"
     ]
    }
   ],
   "source": [
    "!dir"
   ]
  },
  {
   "cell_type": "code",
   "execution_count": 14,
   "id": "1cdca34d-0baa-4a05-919e-7eb7492053c7",
   "metadata": {},
   "outputs": [
    {
     "name": "stdout",
     "output_type": "stream",
     "text": [
      "65.8 ns ± 0.737 ns per loop (mean ± std. dev. of 7 runs, 10,000,000 loops each)\n"
     ]
    }
   ],
   "source": [
    "%timeit x=10"
   ]
  },
  {
   "cell_type": "code",
   "execution_count": 15,
   "id": "699659d5-b9f7-49ae-b87b-be91d21f7343",
   "metadata": {},
   "outputs": [
    {
     "name": "stdout",
     "output_type": "stream",
     "text": [
      "107 ns ± 0.875 ns per loop (mean ± std. dev. of 7 runs, 10,000,000 loops each)\n"
     ]
    }
   ],
   "source": [
    "%%timeit \n",
    "x=10\n",
    "y=10\n",
    "z=10"
   ]
  },
  {
   "cell_type": "code",
   "execution_count": 17,
   "id": "ae2285b2-d0dd-47c6-9759-09f075ee2412",
   "metadata": {},
   "outputs": [
    {
     "name": "stdout",
     "output_type": "stream",
     "text": [
      "hello !!!\n",
      "world !!!\n"
     ]
    }
   ],
   "source": [
    "print('hello !!!')\n",
    "print('world !!!')"
   ]
  },
  {
   "cell_type": "code",
   "execution_count": 1,
   "id": "6f7fa3be-26a4-47ea-beca-663239c1f424",
   "metadata": {},
   "outputs": [],
   "source": [
    "x = 42"
   ]
  },
  {
   "cell_type": "code",
   "execution_count": 2,
   "id": "a1700259-2440-49c7-99e8-15af79214a17",
   "metadata": {},
   "outputs": [
    {
     "name": "stdout",
     "output_type": "stream",
     "text": [
      "42\n"
     ]
    }
   ],
   "source": [
    "print(x)"
   ]
  },
  {
   "cell_type": "code",
   "execution_count": 4,
   "id": "e75e44d5-a26e-4f31-8da4-17fc2635244c",
   "metadata": {},
   "outputs": [],
   "source": [
    "y = 'name'"
   ]
  },
  {
   "cell_type": "code",
   "execution_count": 5,
   "id": "e75a258a-f484-4f76-a86c-2d695a937404",
   "metadata": {},
   "outputs": [
    {
     "name": "stdout",
     "output_type": "stream",
     "text": [
      "name\n"
     ]
    }
   ],
   "source": [
    "print(y)"
   ]
  },
  {
   "cell_type": "code",
   "execution_count": 7,
   "id": "53689042-3906-4e8f-824d-38017c80b1fd",
   "metadata": {},
   "outputs": [
    {
     "name": "stdout",
     "output_type": "stream",
     "text": [
      "NAME\n"
     ]
    }
   ],
   "source": [
    "print(y.upper())"
   ]
  },
  {
   "cell_type": "markdown",
   "id": "94cadbd1-aa84-470d-9a44-c16d49ffcdbc",
   "metadata": {},
   "source": [
    "%%HTML https://www.youtube.com/watch?v=-GQg25oP0S4"
   ]
  },
  {
   "cell_type": "code",
   "execution_count": 9,
   "id": "fd781539-aa7c-493e-80b8-54e01224bf74",
   "metadata": {},
   "outputs": [
    {
     "data": {
      "text/html": [
       "<h1 style=\"color:blue;\">This is a heading</h1>\n",
       "<p>This is a paragraph of text.</p>\n"
      ],
      "text/plain": [
       "<IPython.core.display.HTML object>"
      ]
     },
     "metadata": {},
     "output_type": "display_data"
    }
   ],
   "source": [
    "%%HTML\n",
    "<h1 style=\"color:blue;\">This is a heading</h1>\n",
    "<p>This is a paragraph of text.</p>\n"
   ]
  },
  {
   "cell_type": "code",
   "execution_count": 11,
   "id": "2f2b0d95-0505-4bfe-9d69-f08904696df3",
   "metadata": {},
   "outputs": [
    {
     "data": {
      "text/html": [
       "\n",
       "<iframe width=\"560\" height=\"315\" src=\"https://www.youtube.com/embed/-GQg25oP0S4\" \n",
       "frameborder=\"0\" allow=\"accelerometer; autoplay; clipboard-write; encrypted-media; gyroscope; picture-in-picture\" allowfullscreen></iframe>\n"
      ],
      "text/plain": [
       "<IPython.core.display.HTML object>"
      ]
     },
     "metadata": {},
     "output_type": "display_data"
    }
   ],
   "source": [
    "from IPython.display import display, HTML\n",
    "\n",
    "video_id = \"-GQg25oP0S4\"\n",
    "html_code = f\"\"\"\n",
    "<iframe width=\"560\" height=\"315\" src=\"https://www.youtube.com/embed/{video_id}\" \n",
    "frameborder=\"0\" allow=\"accelerometer; autoplay; clipboard-write; encrypted-media; gyroscope; picture-in-picture\" allowfullscreen></iframe>\n",
    "\"\"\"\n",
    "display(HTML(html_code))\n"
   ]
  },
  {
   "cell_type": "code",
   "execution_count": null,
   "id": "8711cd34-6503-4478-983f-f21da751bdf2",
   "metadata": {},
   "outputs": [],
   "source": []
  },
  {
   "cell_type": "code",
   "execution_count": null,
   "id": "ba6f67ea-54b7-4d72-a334-d941b9113218",
   "metadata": {},
   "outputs": [],
   "source": []
  },
  {
   "cell_type": "code",
   "execution_count": 15,
   "id": "228cce1c-34f6-4783-8aba-175c175c2fb6",
   "metadata": {},
   "outputs": [
    {
     "name": "stdout",
     "output_type": "stream",
     "text": [
      "Hello World!\n"
     ]
    }
   ],
   "source": [
    "print('Hello World!')"
   ]
  },
  {
   "cell_type": "markdown",
   "id": "0cb00aa6-7cd0-4a54-a7c2-3a25be7d0758",
   "metadata": {},
   "source": [
    "hello\n",
    "\n",
    "```python\n",
    "print('Hello World!')\n",
    "```"
   ]
  },
  {
   "cell_type": "markdown",
   "id": "db8c61c0-7bbb-4f2d-a2fd-02bb343715bc",
   "metadata": {},
   "source": [
    "hello\n",
    "\n",
    "```python\n",
    "print('Hello World!')\n",
    "```"
   ]
  },
  {
   "cell_type": "markdown",
   "id": "0a79d13a-5b31-4c74-a18a-772138053013",
   "metadata": {},
   "source": [
    "markdown:\n",
    "\n",
    "print('Hello World!')"
   ]
  },
  {
   "cell_type": "code",
   "execution_count": null,
   "id": "b4d32e27-da62-40cc-98e7-45e5314bfbf4",
   "metadata": {},
   "outputs": [],
   "source": []
  }
 ],
 "metadata": {
  "kernelspec": {
   "display_name": "Python 3 (ipykernel)",
   "language": "python",
   "name": "python3"
  },
  "language_info": {
   "codemirror_mode": {
    "name": "ipython",
    "version": 3
   },
   "file_extension": ".py",
   "mimetype": "text/x-python",
   "name": "python",
   "nbconvert_exporter": "python",
   "pygments_lexer": "ipython3",
   "version": "3.12.3"
  }
 },
 "nbformat": 4,
 "nbformat_minor": 5
}
